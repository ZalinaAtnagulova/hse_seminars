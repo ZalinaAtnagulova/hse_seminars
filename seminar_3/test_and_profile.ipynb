{
 "cells": [
  {
   "cell_type": "markdown",
   "metadata": {},
   "source": [
    "# Testing"
   ]
  },
  {
   "cell_type": "markdown",
   "metadata": {},
   "source": [
    "### Test Driven Development:\n",
    "    1. write tests\n",
    "    2. make them fail\n",
    "    3. write code\n",
    "    4. make them pass\n",
    "    5. repeat"
   ]
  },
  {
   "cell_type": "markdown",
   "metadata": {},
   "source": [
    "## Unittest"
   ]
  },
  {
   "cell_type": "markdown",
   "metadata": {},
   "source": [
    "1. every test class must be derived from *unittest.TestCase*\n",
    "2. every test function name must have prefix *test_*\n",
    "3. use *assert* functions to check result\n",
    "4. use *setUp()* for initialization before test case\n",
    "5. use *tearDown()* for code executed after test case\n",
    "6. python -m unittest -v test_module"
   ]
  },
  {
   "cell_type": "markdown",
   "metadata": {},
   "source": [
    "\n",
    "# Profiling"
   ]
  },
  {
   "cell_type": "markdown",
   "metadata": {},
   "source": [
    "is a form of dynamic program analysis that measures, for example, the space (memory) or time complexity of a program, the usage of particular instructions, or the frequency and duration of function calls [Wikipedia]"
   ]
  },
  {
   "cell_type": "markdown",
   "metadata": {},
   "source": [
    "## Manual profiling "
   ]
  },
  {
   "cell_type": "code",
   "execution_count": 48,
   "metadata": {},
   "outputs": [],
   "source": [
    "def fibonacci_1(n):\n",
    "    a, b = 0, 1\n",
    "    \n",
    "    if n < 0:\n",
    "        raise Exception()\n",
    "    elif n == 0:\n",
    "        return a\n",
    "    elif n == 1:\n",
    "        return b\n",
    "    \n",
    "    x = 1\n",
    "    for i in range(n-2):\n",
    "        x, b, a = x+b, x, b\n",
    "    return x\n",
    "    \n",
    "def fibonacci_2(n):\n",
    "    if n < 0:\n",
    "        raise Exception()\n",
    "    elif n == 0:\n",
    "        return 0\n",
    "    elif n == 1:\n",
    "        return 1\n",
    "    \n",
    "    return fibonacci_2(n-1) + fibonacci_2(n-2)"
   ]
  },
  {
   "cell_type": "code",
   "execution_count": 54,
   "metadata": {},
   "outputs": [
    {
     "data": {
      "text/plain": [
       "(4.76837158203125e-06, 0.0036957263946533203)"
      ]
     },
     "execution_count": 54,
     "metadata": {},
     "output_type": "execute_result"
    }
   ],
   "source": [
    "import time\n",
    "\n",
    "def manual_profile(foo, x):\n",
    "    time_start = time.time()\n",
    "    foo(x)\n",
    "    return time.time() - time_start\n",
    "\n",
    "manual_profile(fibonacci_1,20), manual_profile(fibonacci_2,20)"
   ]
  },
  {
   "cell_type": "code",
   "execution_count": 59,
   "metadata": {},
   "outputs": [
    {
     "name": "stdout",
     "output_type": "stream",
     "text": [
      "fibonacci_1 took 0.000006.6 sec\n"
     ]
    },
    {
     "data": {
      "text/plain": [
       "6765"
      ]
     },
     "execution_count": 59,
     "metadata": {},
     "output_type": "execute_result"
    }
   ],
   "source": [
    "### timeit decorator\n",
    "import time\n",
    "\n",
    "\n",
    "def timeit(foo, *args, **kwags):\n",
    "    def wrap(*args, **kwags):\n",
    "        time_start = time.time()\n",
    "        result = foo(*args, **kwags)\n",
    "        print('%s took %f.6 sec' % (foo.__name__, time.time() - time_start))\n",
    "        return result\n",
    "    return wrap\n",
    "\n",
    "@timeit\n",
    "def fibonacci_1(n):\n",
    "    a, b = 0, 1\n",
    "    \n",
    "    if n < 0:\n",
    "        raise Exception()\n",
    "    elif n == 0:\n",
    "        return a\n",
    "    elif n == 1:\n",
    "        return b\n",
    "    \n",
    "    x = 1\n",
    "    for i in range(n-2):\n",
    "        x, b, a = x+b, x, b\n",
    "    return x\n",
    "\n",
    "fibonacci_1(20)"
   ]
  },
  {
   "cell_type": "markdown",
   "metadata": {},
   "source": [
    "### Magic commands in jupyter notebook"
   ]
  },
  {
   "cell_type": "code",
   "execution_count": null,
   "metadata": {},
   "outputs": [],
   "source": [
    "%time fibonacci_2(20)"
   ]
  },
  {
   "cell_type": "code",
   "execution_count": 65,
   "metadata": {},
   "outputs": [
    {
     "name": "stdout",
     "output_type": "stream",
     "text": [
      "fibonacci_1 took 0.000005.6 sec\n",
      "fibonacci_1 took 0.000003.6 sec\n",
      "fibonacci_1 took 0.000002.6 sec\n",
      "fibonacci_1 took 0.000005.6 sec\n",
      "fibonacci_1 took 0.000007.6 sec\n",
      "fibonacci_1 took 0.000005.6 sec\n",
      "fibonacci_1 took 0.000005.6 sec\n",
      "The slowest run took 21.93 times longer than the fastest. This could mean that an intermediate result is being cached.\n",
      "157 µs ± 206 µs per loop (mean ± std. dev. of 7 runs, 1 loop each)\n"
     ]
    }
   ],
   "source": [
    "%timeit -n 1 fibonacci_1(20)"
   ]
  },
  {
   "cell_type": "code",
   "execution_count": 71,
   "metadata": {},
   "outputs": [
    {
     "data": {
      "image/png": "[encoded data removed]",
      "text/plain": [
       "<matplotlib.figure.Figure at 0x7ffb9b072f28>"
      ]
     },
     "metadata": {},
     "output_type": "display_data"
    }
   ],
   "source": [
    "def fibonacci_1(n):\n",
    "    a, b = 0, 1\n",
    "    \n",
    "    if n < 0:\n",
    "        raise Exception()\n",
    "    elif n == 0:\n",
    "        return a\n",
    "    elif n == 1:\n",
    "        return b\n",
    "    \n",
    "    x = 1\n",
    "    for i in range(n-2):\n",
    "        x, b, a = x+b, x, b\n",
    "    return x\n",
    "    \n",
    "def fibonacci_2(n):\n",
    "    if n < 0:\n",
    "        raise Exception()\n",
    "    elif n == 0:\n",
    "        return 0\n",
    "    elif n == 1:\n",
    "        return 1\n",
    "    \n",
    "    return fibonacci_2(n-1) + fibonacci_2(n-2)\n",
    "\n",
    "import time\n",
    "\n",
    "def manual_profile(foo, x):\n",
    "    time_start = time.time()\n",
    "    foo(x)\n",
    "    return time.time() - time_start\n",
    "\n",
    "# draw plot\n",
    "import matplotlib.pylab as plt\n",
    "%matplotlib inline\n",
    "\n",
    "n = range(30)\n",
    "time_spend_1 = [manual_profile(fibonacci_1, x) for x in n]\n",
    "time_spend_2 = [manual_profile(fibonacci_2, x) for x in n]\n",
    "\n",
    "# import numpy as np\n",
    "# time_spend_1 = np.log(time_spend_1)\n",
    "# time_spend_2 = np.log(time_spend_2)\n",
    "\n",
    "plt.plot(n, time_spend_1, label='O(n)')\n",
    "plt.plot(n, time_spend_2, label='O(2^n)')\n",
    "plt.xlabel('n')\n",
    "plt.ylabel('sec')\n",
    "plt.show()"
   ]
  },
  {
   "cell_type": "markdown",
   "metadata": {},
   "source": [
    "### cProfile"
   ]
  },
  {
   "cell_type": "code",
   "execution_count": 88,
   "metadata": {},
   "outputs": [
    {
     "name": "stdout",
     "output_type": "stream",
     "text": [
      "         57837 function calls (57815 primitive calls) in 8.608 seconds\n",
      "\n",
      "   Ordered by: internal time\n",
      "\n",
      "   ncalls  tottime  percall  cumtime  percall filename:lineno(function)\n",
      "        1    8.583    8.583    8.583    8.583 profiling_case1.py:1(bubble_sort)\n",
      "    10000    0.007    0.000    0.016    0.000 random.py:179(randrange)\n",
      "    10000    0.006    0.000    0.009    0.000 random.py:229(_randbelow)\n",
      "    10000    0.003    0.000    0.019    0.000 random.py:223(randint)\n",
      "        1    0.003    0.003    0.022    0.022 profiling_case1.py:12(<listcomp>)\n",
      "    16472    0.002    0.000    0.002    0.000 {method 'getrandbits' of '_random.Random' objects}\n",
      "        3    0.002    0.001    0.002    0.001 {built-in method _imp.create_dynamic}\n",
      "    10000    0.001    0.000    0.001    0.000 {method 'bit_length' of 'int' objects}\n",
      "        1    0.000    0.000    0.000    0.000 {built-in method posix.urandom}\n",
      "       21    0.000    0.000    0.001    0.000 <frozen importlib._bootstrap_external>:1247(find_spec)\n",
      "        2    0.000    0.000    0.000    0.000 {built-in method marshal.loads}\n",
      "       28    0.000    0.000    0.000    0.000 {built-in method posix.stat}\n",
      "        1    0.000    0.000    0.003    0.003 random.py:37(<module>)\n",
      "       95    0.000    0.000    0.000    0.000 <frozen importlib._bootstrap_external>:59(<listcomp>)\n",
      "        2    0.000    0.000    0.000    0.000 {built-in method builtins.__build_class__}\n",
      "        5    0.000    0.000    0.001    0.000 <frozen importlib._bootstrap>:879(_find_spec)\n",
      "       95    0.000    0.000    0.000    0.000 <frozen importlib._bootstrap_external>:57(_path_join)\n",
      "        5    0.000    0.000    0.001    0.000 <frozen importlib._bootstrap_external>:1133(_get_spec)\n",
      "       91    0.000    0.000    0.000    0.000 {method 'format' of 'str' objects}\n",
      "      5/1    0.000    0.000    0.003    0.003 <frozen importlib._bootstrap>:659(_load_unlocked)\n",
      "        1    0.000    0.000    0.002    0.002 hashlib.py:53(<module>)\n",
      "      101    0.000    0.000    0.000    0.000 <frozen importlib._bootstrap_external>:396(_verbose_message)\n",
      "      5/1    0.000    0.000    0.004    0.004 <frozen importlib._bootstrap>:965(_find_and_load)\n",
      "        5    0.000    0.000    0.000    0.000 <frozen importlib._bootstrap>:510(_init_module_attrs)\n",
      "      194    0.000    0.000    0.000    0.000 {method 'rstrip' of 'str' objects}\n",
      "       36    0.000    0.000    0.000    0.000 {built-in method builtins.getattr}\n",
      "        2    0.000    0.000    0.000    0.000 {function Random.seed at 0x7f4a550d7c80}\n",
      "        2    0.000    0.000    0.000    0.000 <frozen importlib._bootstrap_external>:848(get_data)\n",
      "        5    0.000    0.000    0.000    0.000 <frozen importlib._bootstrap>:119(release)\n",
      "       26    0.000    0.000    0.000    0.000 <frozen importlib._bootstrap_external>:1096(_path_importer_cache)\n",
      "        5    0.000    0.000    0.000    0.000 <frozen importlib._bootstrap>:176(_get_module_lock)\n",
      "        2    0.000    0.000    0.000    0.000 random.py:93(seed)\n",
      "       28    0.000    0.000    0.000    0.000 <frozen importlib._bootstrap_external>:75(_path_stat)\n",
      "        1    0.000    0.000    8.608    8.608 profiling_case1.py:1(<module>)\n",
      "      5/1    0.000    0.000    0.004    0.004 <frozen importlib._bootstrap>:938(_find_and_load_unlocked)\n",
      "        5    0.000    0.000    0.000    0.000 <frozen importlib._bootstrap>:321(__exit__)\n",
      "       39    0.000    0.000    0.000    0.000 {built-in method builtins.hasattr}\n",
      "       10    0.000    0.000    0.000    0.000 {built-in method posix.getcwd}\n",
      "        5    0.000    0.000    0.000    0.000 <frozen importlib._bootstrap>:94(acquire)\n",
      "        5    0.000    0.000    0.000    0.000 <frozen importlib._bootstrap_external>:372(_get_cached)\n",
      "        3    0.000    0.000    0.002    0.001 <frozen importlib._bootstrap_external>:935(create_module)\n",
      "        1    0.000    0.000    0.000    0.000 random.py:68(Random)\n",
      "       99    0.000    0.000    0.000    0.000 {method 'join' of 'str' objects}\n",
      "        2    0.000    0.000    0.000    0.000 <frozen importlib._bootstrap_external>:761(get_code)\n",
      "        5    0.000    0.000    0.000    0.000 <frozen importlib._bootstrap>:163(__enter__)\n",
      "        4    0.000    0.000    0.000    0.000 <frozen importlib._bootstrap_external>:276(cache_from_source)\n",
      "        5    0.000    0.000    0.000    0.000 <frozen importlib._bootstrap_external>:545(spec_from_file_location)\n",
      "        5    0.000    0.000    0.000    0.000 <frozen importlib._bootstrap_external>:1242(_get_spec)\n",
      "       39    0.000    0.000    0.000    0.000 {method 'rpartition' of 'str' objects}\n",
      "        6    0.000    0.000    0.000    0.000 hashlib.py:98(__get_openssl_constructor)\n",
      "        2    0.000    0.000    0.000    0.000 <frozen importlib._bootstrap_external>:449(_validate_bytecode_header)\n",
      "        5    0.000    0.000    0.000    0.000 <frozen importlib._bootstrap>:74(__init__)\n",
      "        2    0.000    0.000    0.000    0.000 {method 'read' of '_io.FileIO' objects}\n",
      "        5    0.000    0.000    0.000    0.000 {built-in method builtins.any}\n",
      "        5    0.000    0.000    0.002    0.000 <frozen importlib._bootstrap>:570(module_from_spec)\n",
      "      2/1    0.000    0.000    0.003    0.003 <frozen importlib._bootstrap_external>:691(exec_module)\n",
      "        3    0.000    0.000    0.000    0.000 <frozen importlib._bootstrap_external>:943(exec_module)\n",
      "        5    0.000    0.000    0.000    0.000 {built-in method from_bytes}\n",
      "      3/1    0.000    0.000    8.608    8.608 {built-in method builtins.exec}\n",
      "       30    0.000    0.000    0.000    0.000 {built-in method builtins.isinstance}\n",
      "        7    0.000    0.000    0.000    0.000 <frozen importlib._bootstrap>:406(cached)\n",
      "        5    0.000    0.000    0.000    0.000 <frozen importlib._bootstrap>:170(__exit__)\n",
      "        2    0.000    0.000    0.000    0.000 <frozen importlib._bootstrap_external>:506(_compile_bytecode)\n",
      "        5    0.000    0.000    0.000    0.000 {built-in method _imp.is_builtin}\n",
      "        5    0.000    0.000    0.001    0.000 <frozen importlib._bootstrap_external>:1165(find_spec)\n",
      "        5    0.000    0.000    0.000    0.000 <frozen importlib._bootstrap>:419(parent)\n",
      "      8/1    0.000    0.000    0.003    0.003 <frozen importlib._bootstrap>:214(_call_with_frames_removed)\n",
      "        5    0.000    0.000    0.000    0.000 <frozen importlib._bootstrap>:372(__init__)\n",
      "       15    0.000    0.000    0.000    0.000 <frozen importlib._bootstrap>:852(__enter__)\n",
      "        8    0.000    0.000    0.000    0.000 <frozen importlib._bootstrap>:995(_handle_fromlist)\n",
      "        5    0.000    0.000    0.000    0.000 <frozen importlib._bootstrap_external>:94(_path_isfile)\n",
      "        5    0.000    0.000    0.000    0.000 <frozen importlib._bootstrap>:314(__enter__)\n",
      "        4    0.000    0.000    0.000    0.000 <frozen importlib._bootstrap_external>:63(_path_split)\n",
      "        5    0.000    0.000    0.000    0.000 <frozen importlib._bootstrap>:190(cb)\n",
      "        5    0.000    0.000    0.000    0.000 <frozen importlib._bootstrap>:225(_verbose_message)\n",
      "        4    0.000    0.000    0.000    0.000 <frozen importlib._bootstrap_external>:52(_r_long)\n",
      "        5    0.000    0.000    0.000    0.000 <frozen importlib._bootstrap_external>:85(_path_is_mode_type)\n",
      "        8    0.000    0.000    0.000    0.000 {method 'endswith' of 'str' objects}\n",
      "        3    0.000    0.000    0.000    0.000 {built-in method _imp.exec_dynamic}\n",
      "        5    0.000    0.000    0.000    0.000 <frozen importlib._bootstrap>:716(find_spec)\n",
      "        1    0.000    0.000    0.000    0.000 {method 'union' of 'set' objects}\n",
      "        5    0.000    0.000    0.000    0.000 <frozen importlib._bootstrap>:159(__init__)\n",
      "       15    0.000    0.000    0.000    0.000 <frozen importlib._bootstrap>:856(__exit__)\n",
      "        1    0.000    0.000    0.000    0.000 {built-in method math.exp}\n",
      "       10    0.000    0.000    0.000    0.000 {built-in method _thread.get_ident}\n",
      "        1    0.000    0.000    0.000    0.000 random.py:84(__init__)\n",
      "        1    0.000    0.000    0.000    0.000 random.py:648(SystemRandom)\n",
      "       20    0.000    0.000    0.000    0.000 <frozen importlib._bootstrap>:324(<genexpr>)\n",
      "        2    0.000    0.000    0.000    0.000 <frozen importlib._bootstrap>:35(_new_module)\n",
      "        5    0.000    0.000    0.000    0.000 <frozen importlib._bootstrap>:789(find_spec)\n",
      "        3    0.000    0.000    0.000    0.000 <frozen importlib._bootstrap_external>:924(__init__)\n",
      "       20    0.000    0.000    0.000    0.000 {built-in method _imp.release_lock}\n",
      "       21    0.000    0.000    0.000    0.000 <frozen importlib._bootstrap_external>:41(_relax_case)\n",
      "        5    0.000    0.000    0.000    0.000 <frozen importlib._bootstrap>:310(__init__)\n",
      "        2    0.000    0.000    0.000    0.000 <frozen importlib._bootstrap_external>:412(_check_name_wrapper)\n",
      "        5    0.000    0.000    0.000    0.000 {built-in method _imp.is_frozen}\n",
      "       15    0.000    0.000    0.000    0.000 {built-in method _imp.acquire_lock}\n",
      "        2    0.000    0.000    0.000    0.000 <frozen importlib._bootstrap_external>:858(path_stats)\n",
      "        2    0.000    0.000    0.000    0.000 <frozen importlib._bootstrap_external>:818(__init__)\n",
      "        2    0.000    0.000    0.000    0.000 {built-in method _imp._fix_co_filename}\n",
      "       10    0.000    0.000    0.000    0.000 {built-in method _thread.allocate_lock}\n",
      "        1    0.000    0.000    0.000    0.000 {built-in method _hashlib.openssl_sha384}\n",
      "        2    0.000    0.000    0.000    0.000 <frozen importlib._bootstrap_external>:688(create_module)\n",
      "        9    0.000    0.000    0.000    0.000 {built-in method builtins.len}\n",
      "        6    0.000    0.000    0.000    0.000 {built-in method builtins.globals}\n",
      "        1    0.000    0.000    0.000    0.000 {built-in method _hashlib.openssl_md5}\n",
      "        1    0.000    0.000    0.000    0.000 {built-in method _hashlib.openssl_sha512}\n",
      "        2    0.000    0.000    0.000    0.000 {built-in method math.log}\n",
      "        1    0.000    0.000    0.000    0.000 {built-in method _hashlib.openssl_sha1}\n",
      "        1    0.000    0.000    0.000    0.000 {built-in method _hashlib.openssl_sha256}\n",
      "        5    0.000    0.000    0.000    0.000 <frozen importlib._bootstrap>:427(has_location)\n",
      "        1    0.000    0.000    0.000    0.000 {built-in method _hashlib.openssl_sha224}\n",
      "        2    0.000    0.000    0.000    0.000 <frozen importlib._bootstrap_external>:843(get_filename)\n",
      "        1    0.000    0.000    0.000    0.000 {built-in method math.sqrt}\n",
      "        1    0.000    0.000    0.000    0.000 {method 'disable' of '_lsprof.Profiler' objects}\n",
      "\n",
      "\n"
     ]
    }
   ],
   "source": [
    "%%bash \n",
    "python -m cProfile -s time profiling_case1.py"
   ]
  },
  {
   "cell_type": "code",
   "execution_count": 89,
   "metadata": {},
   "outputs": [
    {
     "name": "stdout",
     "output_type": "stream",
     "text": [
      "         865222 function calls (845202 primitive calls) in 0.168 seconds\n",
      "\n",
      "   Ordered by: internal time\n",
      "\n",
      "   ncalls  tottime  percall  cumtime  percall filename:lineno(function)\n",
      "     9999    0.096    0.000    0.128    0.000 profiling_case2.py:1(merge)\n",
      "   646917    0.027    0.000    0.027    0.000 {built-in method builtins.len}\n",
      "  19999/1    0.013    0.000    0.143    0.143 profiling_case2.py:21(merge_sort)\n",
      "    10000    0.007    0.000    0.016    0.000 random.py:179(randrange)\n",
      "    10000    0.006    0.000    0.008    0.000 random.py:229(_randbelow)\n",
      "   120481    0.006    0.000    0.006    0.000 {method 'append' of 'list' objects}\n",
      "    10000    0.003    0.000    0.019    0.000 random.py:223(randint)\n",
      "        1    0.003    0.003    0.022    0.022 profiling_case2.py:35(<listcomp>)\n",
      "    16472    0.002    0.000    0.002    0.000 {method 'getrandbits' of '_random.Random' objects}\n",
      "        3    0.002    0.001    0.002    0.001 {built-in method _imp.create_dynamic}\n",
      "     9999    0.001    0.000    0.001    0.000 {method 'extend' of 'list' objects}\n",
      "    10000    0.001    0.000    0.001    0.000 {method 'bit_length' of 'int' objects}\n",
      "        1    0.000    0.000    0.000    0.000 {built-in method posix.urandom}\n",
      "       21    0.000    0.000    0.001    0.000 <frozen importlib._bootstrap_external>:1247(find_spec)\n",
      "        2    0.000    0.000    0.000    0.000 {built-in method marshal.loads}\n",
      "       28    0.000    0.000    0.000    0.000 {built-in method posix.stat}\n",
      "        1    0.000    0.000    0.003    0.003 random.py:37(<module>)\n",
      "        5    0.000    0.000    0.001    0.000 <frozen importlib._bootstrap_external>:1133(_get_spec)\n",
      "       95    0.000    0.000    0.000    0.000 <frozen importlib._bootstrap_external>:59(<listcomp>)\n",
      "       95    0.000    0.000    0.000    0.000 <frozen importlib._bootstrap_external>:57(_path_join)\n",
      "       91    0.000    0.000    0.000    0.000 {method 'format' of 'str' objects}\n",
      "        2    0.000    0.000    0.000    0.000 {built-in method builtins.__build_class__}\n",
      "        1    0.000    0.000    0.168    0.168 profiling_case2.py:1(<module>)\n",
      "        5    0.000    0.000    0.001    0.000 <frozen importlib._bootstrap>:879(_find_spec)\n",
      "      5/1    0.000    0.000    0.003    0.003 <frozen importlib._bootstrap>:659(_load_unlocked)\n",
      "        2    0.000    0.000    0.000    0.000 random.py:93(seed)\n",
      "      194    0.000    0.000    0.000    0.000 {method 'rstrip' of 'str' objects}\n",
      "        5    0.000    0.000    0.000    0.000 <frozen importlib._bootstrap>:510(_init_module_attrs)\n",
      "      5/1    0.000    0.000    0.004    0.004 <frozen importlib._bootstrap>:965(_find_and_load)\n",
      "      101    0.000    0.000    0.000    0.000 <frozen importlib._bootstrap_external>:396(_verbose_message)\n",
      "        2    0.000    0.000    0.000    0.000 <frozen importlib._bootstrap_external>:848(get_data)\n",
      "        1    0.000    0.000    0.002    0.002 hashlib.py:53(<module>)\n",
      "       15    0.000    0.000    0.000    0.000 <frozen importlib._bootstrap>:856(__exit__)\n",
      "        5    0.000    0.000    0.000    0.000 <frozen importlib._bootstrap>:176(_get_module_lock)\n",
      "       39    0.000    0.000    0.000    0.000 {built-in method builtins.hasattr}\n",
      "       26    0.000    0.000    0.000    0.000 <frozen importlib._bootstrap_external>:1096(_path_importer_cache)\n",
      "        5    0.000    0.000    0.000    0.000 <frozen importlib._bootstrap>:119(release)\n",
      "        2    0.000    0.000    0.000    0.000 <frozen importlib._bootstrap_external>:761(get_code)\n",
      "      5/1    0.000    0.000    0.004    0.004 <frozen importlib._bootstrap>:938(_find_and_load_unlocked)\n",
      "        3    0.000    0.000    0.000    0.000 <frozen importlib._bootstrap_external>:924(__init__)\n",
      "       10    0.000    0.000    0.000    0.000 {built-in method posix.getcwd}\n",
      "        5    0.000    0.000    0.000    0.000 <frozen importlib._bootstrap_external>:545(spec_from_file_location)\n",
      "       99    0.000    0.000    0.000    0.000 {method 'join' of 'str' objects}\n",
      "       36    0.000    0.000    0.000    0.000 {built-in method builtins.getattr}\n",
      "        5    0.000    0.000    0.000    0.000 <frozen importlib._bootstrap>:94(acquire)\n",
      "        4    0.000    0.000    0.000    0.000 <frozen importlib._bootstrap_external>:276(cache_from_source)\n",
      "        2    0.000    0.000    0.000    0.000 {function Random.seed at 0x7f828821be18}\n",
      "        5    0.000    0.000    0.000    0.000 <frozen importlib._bootstrap>:321(__exit__)\n",
      "        5    0.000    0.000    0.000    0.000 <frozen importlib._bootstrap_external>:1242(_get_spec)\n",
      "      8/1    0.000    0.000    0.003    0.003 <frozen importlib._bootstrap>:214(_call_with_frames_removed)\n",
      "        1    0.000    0.000    0.000    0.000 random.py:68(Random)\n",
      "        5    0.000    0.000    0.000    0.000 <frozen importlib._bootstrap_external>:372(_get_cached)\n",
      "        2    0.000    0.000    0.000    0.000 <frozen importlib._bootstrap_external>:449(_validate_bytecode_header)\n",
      "        3    0.000    0.000    0.002    0.001 <frozen importlib._bootstrap_external>:935(create_module)\n",
      "        5    0.000    0.000    0.002    0.000 <frozen importlib._bootstrap>:570(module_from_spec)\n",
      "        5    0.000    0.000    0.000    0.000 <frozen importlib._bootstrap>:163(__enter__)\n",
      "        6    0.000    0.000    0.000    0.000 hashlib.py:98(__get_openssl_constructor)\n",
      "        5    0.000    0.000    0.000    0.000 <frozen importlib._bootstrap>:74(__init__)\n",
      "       28    0.000    0.000    0.000    0.000 <frozen importlib._bootstrap_external>:75(_path_stat)\n",
      "        7    0.000    0.000    0.000    0.000 <frozen importlib._bootstrap>:406(cached)\n",
      "        2    0.000    0.000    0.000    0.000 {method 'read' of '_io.FileIO' objects}\n",
      "       39    0.000    0.000    0.000    0.000 {method 'rpartition' of 'str' objects}\n",
      "        3    0.000    0.000    0.000    0.000 <frozen importlib._bootstrap_external>:943(exec_module)\n",
      "        5    0.000    0.000    0.001    0.000 <frozen importlib._bootstrap_external>:1165(find_spec)\n",
      "        2    0.000    0.000    0.000    0.000 <frozen importlib._bootstrap_external>:506(_compile_bytecode)\n",
      "        1    0.000    0.000    0.000    0.000 {built-in method math.exp}\n",
      "      2/1    0.000    0.000    0.003    0.003 <frozen importlib._bootstrap_external>:691(exec_module)\n",
      "       30    0.000    0.000    0.000    0.000 {built-in method builtins.isinstance}\n",
      "       15    0.000    0.000    0.000    0.000 <frozen importlib._bootstrap>:852(__enter__)\n",
      "        4    0.000    0.000    0.000    0.000 <frozen importlib._bootstrap_external>:63(_path_split)\n",
      "        5    0.000    0.000    0.000    0.000 {built-in method builtins.any}\n",
      "        5    0.000    0.000    0.000    0.000 {built-in method from_bytes}\n",
      "        5    0.000    0.000    0.000    0.000 {built-in method _imp.is_builtin}\n",
      "        5    0.000    0.000    0.000    0.000 <frozen importlib._bootstrap>:314(__enter__)\n",
      "        8    0.000    0.000    0.000    0.000 {method 'endswith' of 'str' objects}\n",
      "        5    0.000    0.000    0.000    0.000 <frozen importlib._bootstrap_external>:94(_path_isfile)\n",
      "        5    0.000    0.000    0.000    0.000 <frozen importlib._bootstrap_external>:85(_path_is_mode_type)\n",
      "        5    0.000    0.000    0.000    0.000 <frozen importlib._bootstrap>:310(__init__)\n",
      "       20    0.000    0.000    0.000    0.000 {built-in method _imp.release_lock}\n",
      "        5    0.000    0.000    0.000    0.000 <frozen importlib._bootstrap>:789(find_spec)\n",
      "      3/1    0.000    0.000    0.168    0.168 {built-in method builtins.exec}\n",
      "        5    0.000    0.000    0.000    0.000 <frozen importlib._bootstrap>:716(find_spec)\n",
      "        5    0.000    0.000    0.000    0.000 <frozen importlib._bootstrap>:419(parent)\n",
      "        5    0.000    0.000    0.000    0.000 <frozen importlib._bootstrap>:170(__exit__)\n",
      "        4    0.000    0.000    0.000    0.000 <frozen importlib._bootstrap_external>:52(_r_long)\n",
      "        5    0.000    0.000    0.000    0.000 <frozen importlib._bootstrap>:225(_verbose_message)\n",
      "       20    0.000    0.000    0.000    0.000 <frozen importlib._bootstrap>:324(<genexpr>)\n",
      "       10    0.000    0.000    0.000    0.000 {built-in method _thread.get_ident}\n",
      "        5    0.000    0.000    0.000    0.000 <frozen importlib._bootstrap>:372(__init__)\n",
      "        2    0.000    0.000    0.000    0.000 {built-in method _imp._fix_co_filename}\n",
      "        3    0.000    0.000    0.000    0.000 {built-in method _imp.exec_dynamic}\n",
      "        8    0.000    0.000    0.000    0.000 <frozen importlib._bootstrap>:995(_handle_fromlist)\n",
      "        2    0.000    0.000    0.000    0.000 <frozen importlib._bootstrap_external>:412(_check_name_wrapper)\n",
      "        1    0.000    0.000    0.000    0.000 {method 'union' of 'set' objects}\n",
      "        2    0.000    0.000    0.000    0.000 {built-in method math.log}\n",
      "        2    0.000    0.000    0.000    0.000 <frozen importlib._bootstrap>:35(_new_module)\n",
      "        1    0.000    0.000    0.000    0.000 {built-in method _hashlib.openssl_md5}\n",
      "        1    0.000    0.000    0.000    0.000 random.py:648(SystemRandom)\n",
      "       15    0.000    0.000    0.000    0.000 {built-in method _imp.acquire_lock}\n",
      "        5    0.000    0.000    0.000    0.000 <frozen importlib._bootstrap>:190(cb)\n",
      "        2    0.000    0.000    0.000    0.000 <frozen importlib._bootstrap_external>:818(__init__)\n",
      "        2    0.000    0.000    0.000    0.000 <frozen importlib._bootstrap_external>:858(path_stats)\n",
      "        1    0.000    0.000    0.000    0.000 random.py:84(__init__)\n",
      "        5    0.000    0.000    0.000    0.000 <frozen importlib._bootstrap>:159(__init__)\n",
      "       10    0.000    0.000    0.000    0.000 {built-in method _thread.allocate_lock}\n",
      "        6    0.000    0.000    0.000    0.000 {built-in method builtins.globals}\n",
      "        5    0.000    0.000    0.000    0.000 <frozen importlib._bootstrap>:427(has_location)\n",
      "        1    0.000    0.000    0.000    0.000 {built-in method _hashlib.openssl_sha224}\n",
      "        5    0.000    0.000    0.000    0.000 {built-in method _imp.is_frozen}\n",
      "       21    0.000    0.000    0.000    0.000 <frozen importlib._bootstrap_external>:41(_relax_case)\n",
      "        2    0.000    0.000    0.000    0.000 <frozen importlib._bootstrap_external>:843(get_filename)\n",
      "        1    0.000    0.000    0.000    0.000 {built-in method _hashlib.openssl_sha512}\n",
      "        1    0.000    0.000    0.000    0.000 {built-in method _hashlib.openssl_sha1}\n",
      "        1    0.000    0.000    0.000    0.000 {built-in method _hashlib.openssl_sha256}\n",
      "        1    0.000    0.000    0.000    0.000 {method 'disable' of '_lsprof.Profiler' objects}\n",
      "        2    0.000    0.000    0.000    0.000 <frozen importlib._bootstrap_external>:688(create_module)\n",
      "        1    0.000    0.000    0.000    0.000 {built-in method math.sqrt}\n",
      "        1    0.000    0.000    0.000    0.000 {built-in method _hashlib.openssl_sha384}\n",
      "\n",
      "\n"
     ]
    }
   ],
   "source": [
    "%%bash \n",
    "python -m cProfile -s time profiling_case2.py"
   ]
  },
  {
   "cell_type": "markdown",
   "metadata": {},
   "source": [
    "### pstats"
   ]
  },
  {
   "cell_type": "code",
   "execution_count": 90,
   "metadata": {
    "collapsed": true
   },
   "outputs": [],
   "source": [
    "%%bash \n",
    "python -m cProfile -s time -o case1.prof profiling_case1.py\n",
    "python -m cProfile -s time -o case2.prof profiling_case2.py"
   ]
  },
  {
   "cell_type": "code",
   "execution_count": 91,
   "metadata": {},
   "outputs": [
    {
     "name": "stdout",
     "output_type": "stream",
     "text": [
      "total 100\n",
      "-rw-rw-r-- 1 denaas denaas 13380 сен 28 00:37 case1.prof\n",
      "-rw-rw-r-- 1 denaas denaas 13779 сен 28 00:37 case2.prof\n",
      "-rw-rw-r-- 1 denaas denaas   201 сен 27 23:15 nose_tests.py\n",
      "-rw-rw-r-- 1 denaas denaas   268 сен 28 00:35 profiling_case1.py\n",
      "-rw-rw-r-- 1 denaas denaas   661 сен 28 00:35 profiling_case2.py\n",
      "drwxrwxr-x 2 denaas denaas  4096 сен 28 00:34 __pycache__\n",
      "-rw-rw-r-- 1 denaas denaas   190 сен 27 22:46 real_numbers.py\n",
      "-rw-rw-r-- 1 denaas denaas 41114 сен 28 00:36 testing.ipynb\n",
      "-rw-rw-r-- 1 denaas denaas   446 сен 27 23:02 test_realNumbers.py\n"
     ]
    }
   ],
   "source": [
    "%%bash\n",
    "ls -l"
   ]
  },
  {
   "cell_type": "code",
   "execution_count": 95,
   "metadata": {},
   "outputs": [
    {
     "name": "stdout",
     "output_type": "stream",
     "text": [
      "Thu Sep 28 00:37:42 2017    case2.prof\n",
      "\n",
      "         865222 function calls (845202 primitive calls) in 0.162 seconds\n",
      "\n",
      "   Ordered by: cumulative time\n",
      "\n",
      "   ncalls  tottime  percall  cumtime  percall filename:lineno(function)\n",
      "      3/1    0.000    0.000    0.162    0.162 {built-in method builtins.exec}\n",
      "        1    0.000    0.000    0.162    0.162 profiling_case2.py:1(<module>)\n",
      "  19999/1    0.013    0.000    0.140    0.140 profiling_case2.py:21(merge_sort)\n",
      "     9999    0.095    0.000    0.126    0.000 profiling_case2.py:1(merge)\n",
      "   646917    0.026    0.000    0.026    0.000 {built-in method builtins.len}\n",
      "        1    0.002    0.002    0.019    0.019 profiling_case2.py:35(<listcomp>)\n",
      "    10000    0.003    0.000    0.017    0.000 /opt/anaconda3/lib/python3.5/random.py:223(randint)\n",
      "    10000    0.006    0.000    0.014    0.000 /opt/anaconda3/lib/python3.5/random.py:179(randrange)\n",
      "    10000    0.005    0.000    0.008    0.000 /opt/anaconda3/lib/python3.5/random.py:229(_randbelow)\n",
      "   120481    0.006    0.000    0.006    0.000 {method 'append' of 'list' objects}\n",
      "      5/1    0.000    0.000    0.003    0.003 <frozen importlib._bootstrap>:965(_find_and_load)\n",
      "      5/1    0.000    0.000    0.003    0.003 <frozen importlib._bootstrap>:938(_find_and_load_unlocked)\n",
      "      5/1    0.000    0.000    0.003    0.003 <frozen importlib._bootstrap>:659(_load_unlocked)\n",
      "      2/1    0.000    0.000    0.003    0.003 <frozen importlib._bootstrap_external>:691(exec_module)\n",
      "      8/1    0.000    0.000    0.002    0.002 <frozen importlib._bootstrap>:214(_call_with_frames_removed)\n",
      "        1    0.000    0.000    0.002    0.002 /opt/anaconda3/lib/python3.5/random.py:37(<module>)\n",
      "    16472    0.002    0.000    0.002    0.000 {method 'getrandbits' of '_random.Random' objects}\n",
      "        5    0.000    0.000    0.001    0.000 <frozen importlib._bootstrap>:570(module_from_spec)\n",
      "        1    0.000    0.000    0.001    0.001 /opt/anaconda3/lib/python3.5/hashlib.py:53(<module>)\n",
      "        3    0.000    0.000    0.001    0.000 <frozen importlib._bootstrap_external>:935(create_module)\n",
      "        3    0.001    0.000    0.001    0.000 {built-in method _imp.create_dynamic}\n",
      "     9999    0.001    0.000    0.001    0.000 {method 'extend' of 'list' objects}\n",
      "        5    0.000    0.000    0.001    0.000 <frozen importlib._bootstrap>:879(_find_spec)\n",
      "        5    0.000    0.000    0.001    0.000 <frozen importlib._bootstrap_external>:1165(find_spec)\n",
      "        5    0.000    0.000    0.001    0.000 <frozen importlib._bootstrap_external>:1133(_get_spec)\n",
      "       21    0.000    0.000    0.000    0.000 <frozen importlib._bootstrap_external>:1247(find_spec)\n",
      "    10000    0.000    0.000    0.000    0.000 {method 'bit_length' of 'int' objects}\n",
      "        2    0.000    0.000    0.000    0.000 /opt/anaconda3/lib/python3.5/random.py:93(seed)\n",
      "        1    0.000    0.000    0.000    0.000 /opt/anaconda3/lib/python3.5/random.py:84(__init__)\n",
      "        2    0.000    0.000    0.000    0.000 <frozen importlib._bootstrap_external>:761(get_code)\n",
      "        1    0.000    0.000    0.000    0.000 {built-in method posix.urandom}\n",
      "       95    0.000    0.000    0.000    0.000 <frozen importlib._bootstrap_external>:57(_path_join)\n",
      "        2    0.000    0.000    0.000    0.000 <frozen importlib._bootstrap_external>:506(_compile_bytecode)\n",
      "        2    0.000    0.000    0.000    0.000 {built-in method marshal.loads}\n",
      "        5    0.000    0.000    0.000    0.000 <frozen importlib._bootstrap>:510(_init_module_attrs)\n",
      "       28    0.000    0.000    0.000    0.000 <frozen importlib._bootstrap_external>:75(_path_stat)\n",
      "       95    0.000    0.000    0.000    0.000 <frozen importlib._bootstrap_external>:59(<listcomp>)\n",
      "       28    0.000    0.000    0.000    0.000 {built-in method posix.stat}\n",
      "        5    0.000    0.000    0.000    0.000 <frozen importlib._bootstrap>:163(__enter__)\n",
      "        2    0.000    0.000    0.000    0.000 {built-in method builtins.__build_class__}\n",
      "        7    0.000    0.000    0.000    0.000 <frozen importlib._bootstrap>:406(cached)\n",
      "        2    0.000    0.000    0.000    0.000 <frozen importlib._bootstrap_external>:848(get_data)\n",
      "        5    0.000    0.000    0.000    0.000 <frozen importlib._bootstrap_external>:372(_get_cached)\n",
      "        4    0.000    0.000    0.000    0.000 <frozen importlib._bootstrap_external>:276(cache_from_source)\n",
      "        5    0.000    0.000    0.000    0.000 <frozen importlib._bootstrap_external>:1242(_get_spec)\n",
      "       26    0.000    0.000    0.000    0.000 <frozen importlib._bootstrap_external>:1096(_path_importer_cache)\n",
      "       91    0.000    0.000    0.000    0.000 {method 'format' of 'str' objects}\n",
      "      101    0.000    0.000    0.000    0.000 <frozen importlib._bootstrap_external>:396(_verbose_message)\n",
      "        5    0.000    0.000    0.000    0.000 <frozen importlib._bootstrap>:176(_get_module_lock)\n",
      "      194    0.000    0.000    0.000    0.000 {method 'rstrip' of 'str' objects}\n",
      "        5    0.000    0.000    0.000    0.000 <frozen importlib._bootstrap_external>:94(_path_isfile)\n",
      "        5    0.000    0.000    0.000    0.000 <frozen importlib._bootstrap>:321(__exit__)\n",
      "        5    0.000    0.000    0.000    0.000 <frozen importlib._bootstrap_external>:85(_path_is_mode_type)\n",
      "       99    0.000    0.000    0.000    0.000 {method 'join' of 'str' objects}\n",
      "        2    0.000    0.000    0.000    0.000 <frozen importlib._bootstrap_external>:449(_validate_bytecode_header)\n",
      "       39    0.000    0.000    0.000    0.000 {built-in method builtins.hasattr}\n",
      "        5    0.000    0.000    0.000    0.000 <frozen importlib._bootstrap_external>:545(spec_from_file_location)\n",
      "        2    0.000    0.000    0.000    0.000 {function Random.seed at 0x7f29e26c2e18}\n",
      "        5    0.000    0.000    0.000    0.000 <frozen importlib._bootstrap>:170(__exit__)\n",
      "        8    0.000    0.000    0.000    0.000 <frozen importlib._bootstrap>:995(_handle_fromlist)\n",
      "       36    0.000    0.000    0.000    0.000 {built-in method builtins.getattr}\n",
      "        6    0.000    0.000    0.000    0.000 /opt/anaconda3/lib/python3.5/hashlib.py:98(__get_openssl_constructor)\n",
      "        5    0.000    0.000    0.000    0.000 <frozen importlib._bootstrap>:94(acquire)\n",
      "       10    0.000    0.000    0.000    0.000 {built-in method posix.getcwd}\n",
      "        3    0.000    0.000    0.000    0.000 <frozen importlib._bootstrap_external>:943(exec_module)\n",
      "        5    0.000    0.000    0.000    0.000 <frozen importlib._bootstrap>:119(release)\n",
      "        2    0.000    0.000    0.000    0.000 {method 'read' of '_io.FileIO' objects}\n",
      "       15    0.000    0.000    0.000    0.000 <frozen importlib._bootstrap>:856(__exit__)\n",
      "        5    0.000    0.000    0.000    0.000 <frozen importlib._bootstrap>:74(__init__)\n",
      "        5    0.000    0.000    0.000    0.000 {built-in method builtins.any}\n",
      "        1    0.000    0.000    0.000    0.000 /opt/anaconda3/lib/python3.5/random.py:68(Random)\n",
      "       15    0.000    0.000    0.000    0.000 <frozen importlib._bootstrap>:852(__enter__)\n",
      "        2    0.000    0.000    0.000    0.000 <frozen importlib._bootstrap_external>:858(path_stats)\n",
      "        5    0.000    0.000    0.000    0.000 <frozen importlib._bootstrap>:716(find_spec)\n",
      "        4    0.000    0.000    0.000    0.000 <frozen importlib._bootstrap_external>:63(_path_split)\n",
      "       39    0.000    0.000    0.000    0.000 {method 'rpartition' of 'str' objects}\n",
      "        5    0.000    0.000    0.000    0.000 <frozen importlib._bootstrap>:789(find_spec)\n",
      "        5    0.000    0.000    0.000    0.000 <frozen importlib._bootstrap>:419(parent)\n",
      "       30    0.000    0.000    0.000    0.000 {built-in method builtins.isinstance}\n",
      "        5    0.000    0.000    0.000    0.000 {built-in method from_bytes}\n",
      "        5    0.000    0.000    0.000    0.000 {built-in method _imp.is_frozen}\n",
      "       15    0.000    0.000    0.000    0.000 {built-in method _imp.acquire_lock}\n",
      "        5    0.000    0.000    0.000    0.000 <frozen importlib._bootstrap>:314(__enter__)\n",
      "        4    0.000    0.000    0.000    0.000 <frozen importlib._bootstrap_external>:52(_r_long)\n",
      "        3    0.000    0.000    0.000    0.000 {built-in method _imp.exec_dynamic}\n",
      "        5    0.000    0.000    0.000    0.000 {built-in method _imp.is_builtin}\n",
      "        5    0.000    0.000    0.000    0.000 <frozen importlib._bootstrap>:372(__init__)\n",
      "       20    0.000    0.000    0.000    0.000 {built-in method _imp.release_lock}\n",
      "        2    0.000    0.000    0.000    0.000 {built-in method _imp._fix_co_filename}\n",
      "        2    0.000    0.000    0.000    0.000 <frozen importlib._bootstrap_external>:412(_check_name_wrapper)\n",
      "       20    0.000    0.000    0.000    0.000 <frozen importlib._bootstrap>:324(<genexpr>)\n",
      "        5    0.000    0.000    0.000    0.000 <frozen importlib._bootstrap>:225(_verbose_message)\n",
      "        1    0.000    0.000    0.000    0.000 {method 'union' of 'set' objects}\n",
      "        5    0.000    0.000    0.000    0.000 <frozen importlib._bootstrap>:159(__init__)\n",
      "       10    0.000    0.000    0.000    0.000 {built-in method _thread.allocate_lock}\n",
      "        1    0.000    0.000    0.000    0.000 /opt/anaconda3/lib/python3.5/random.py:648(SystemRandom)\n",
      "        2    0.000    0.000    0.000    0.000 <frozen importlib._bootstrap>:35(_new_module)\n",
      "        1    0.000    0.000    0.000    0.000 {built-in method math.exp}\n",
      "        2    0.000    0.000    0.000    0.000 {built-in method math.log}\n",
      "        8    0.000    0.000    0.000    0.000 {method 'endswith' of 'str' objects}\n",
      "        3    0.000    0.000    0.000    0.000 <frozen importlib._bootstrap_external>:924(__init__)\n",
      "        6    0.000    0.000    0.000    0.000 {built-in method builtins.globals}\n",
      "        1    0.000    0.000    0.000    0.000 {built-in method _hashlib.openssl_sha512}\n",
      "        1    0.000    0.000    0.000    0.000 {built-in method _hashlib.openssl_md5}\n",
      "        2    0.000    0.000    0.000    0.000 <frozen importlib._bootstrap_external>:688(create_module)\n",
      "        2    0.000    0.000    0.000    0.000 <frozen importlib._bootstrap_external>:818(__init__)\n",
      "        5    0.000    0.000    0.000    0.000 <frozen importlib._bootstrap>:310(__init__)\n",
      "        1    0.000    0.000    0.000    0.000 {method 'disable' of '_lsprof.Profiler' objects}\n",
      "        5    0.000    0.000    0.000    0.000 <frozen importlib._bootstrap>:190(cb)\n",
      "       21    0.000    0.000    0.000    0.000 <frozen importlib._bootstrap_external>:41(_relax_case)\n",
      "        1    0.000    0.000    0.000    0.000 {built-in method _hashlib.openssl_sha1}\n",
      "        1    0.000    0.000    0.000    0.000 {built-in method _hashlib.openssl_sha224}\n",
      "        2    0.000    0.000    0.000    0.000 <frozen importlib._bootstrap_external>:843(get_filename)\n",
      "        1    0.000    0.000    0.000    0.000 {built-in method math.sqrt}\n",
      "        5    0.000    0.000    0.000    0.000 <frozen importlib._bootstrap>:427(has_location)\n",
      "       10    0.000    0.000    0.000    0.000 {built-in method _thread.get_ident}\n",
      "        1    0.000    0.000    0.000    0.000 {built-in method _hashlib.openssl_sha384}\n",
      "        1    0.000    0.000    0.000    0.000 {built-in method _hashlib.openssl_sha256}\n",
      "\n",
      "\n"
     ]
    },
    {
     "data": {
      "text/plain": [
       "<pstats.Stats at 0x7ffbcfa654a8>"
      ]
     },
     "execution_count": 95,
     "metadata": {},
     "output_type": "execute_result"
    }
   ],
   "source": [
    "import pstats\n",
    "p = pstats.Stats('case2.prof')\n",
    "p.sort_stats('cumtime').print_stats()"
   ]
  },
  {
   "cell_type": "code",
   "execution_count": 109,
   "metadata": {},
   "outputs": [
    {
     "name": "stdout",
     "output_type": "stream",
     "text": [
      "29.7 µs ± 213 ns per loop (mean ± std. dev. of 7 runs, 10000 loops each)\n"
     ]
    }
   ],
   "source": [
    "import random\n",
    "\n",
    "random.seed(1337)\n",
    "a = [str(random.randint(0,10000)) for x in range(1000)]\n",
    "%timeit a.index(a[-1])"
   ]
  },
  {
   "cell_type": "code",
   "execution_count": 106,
   "metadata": {},
   "outputs": [
    {
     "name": "stdout",
     "output_type": "stream",
     "text": [
      "6.61 µs ± 64.5 ns per loop (mean ± std. dev. of 7 runs, 100000 loops each)\n"
     ]
    }
   ],
   "source": [
    "random.seed(1337)\n",
    "a = {str(random.randint(0,10000)):x for x in range(1000)}\n",
    "%timeit a[list(a.keys())[-1]]\n",
    "# a.keys()"
   ]
  },
  {
   "cell_type": "markdown",
   "metadata": {},
   "source": [
    "### pycallgraph"
   ]
  },
  {
   "cell_type": "code",
   "execution_count": 112,
   "metadata": {},
   "outputs": [],
   "source": [
    "%%bash\n",
    "# pip install pycallgraph\n",
    "pycallgraph graphviz -- profiling_case2.py"
   ]
  },
  {
   "cell_type": "markdown",
   "metadata": {},
   "source": [
    "### memory profiler"
   ]
  },
  {
   "cell_type": "code",
   "execution_count": 126,
   "metadata": {},
   "outputs": [],
   "source": [
    "%%bash\n",
    "# pip install memory_profiler"
   ]
  },
  {
   "cell_type": "code",
   "execution_count": 127,
   "metadata": {},
   "outputs": [
    {
     "name": "stdout",
     "output_type": "stream",
     "text": [
      "Filename: profiling_case3.py\n",
      "\n",
      "Line #    Mem usage    Increment   Line Contents\n",
      "================================================\n",
      "    22     47.2 MiB      0.0 MiB   @profile\n",
      "    23                             def main():\n",
      "    24     47.2 MiB      0.0 MiB   \timport random\n",
      "    25     47.2 MiB      0.0 MiB   \trandom.seed(1337)\n",
      "    26     47.2 MiB      0.0 MiB   \ts = Storage()\n",
      "    27     85.4 MiB     38.1 MiB   \tfor x in range(10):\n",
      "    28     85.4 MiB      0.0 MiB   \t\ts.update(str(random.randint(0, 10)), [random.randint(0, 1000)]*1000000)\n",
      "    29     85.4 MiB      0.0 MiB   \t\ts.delete(str(random.randint(0, 10)))\n",
      "\n",
      "\n"
     ]
    }
   ],
   "source": [
    "%%bash\n",
    "python -m memory_profiler profiling_case3.py"
   ]
  }
 ],
 "metadata": {
  "kernelspec": {
   "display_name": "Python 3",
   "language": "python",
   "name": "python3"
  },
  "language_info": {
   "codemirror_mode": {
    "name": "ipython",
    "version": 3
   },
   "file_extension": ".py",
   "mimetype": "text/x-python",
   "name": "python",
   "nbconvert_exporter": "python",
   "pygments_lexer": "ipython3",
   "version": "3.5.4"
  },
  "widgets": {
   "state": {},
   "version": "1.1.2"
  }
 },
 "nbformat": 4,
 "nbformat_minor": 2
}
