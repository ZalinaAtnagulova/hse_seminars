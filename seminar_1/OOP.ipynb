{
 "cells": [
  {
   "cell_type": "markdown",
   "metadata": {},
   "source": [
    "# OOP Notes"
   ]
  },
  {
   "cell_type": "markdown",
   "metadata": {},
   "source": [
    "## Some built-in types\n",
    "\n",
    "В питоне все является объектом."
   ]
  },
  {
   "cell_type": "code",
   "execution_count": 1,
   "metadata": {},
   "outputs": [
    {
     "name": "stdout",
     "output_type": "stream",
     "text": [
      "<class 'int'>\n"
     ]
    }
   ],
   "source": [
    "a = -1\n",
    "print(type(a))"
   ]
  },
  {
   "cell_type": "code",
   "execution_count": 3,
   "metadata": {},
   "outputs": [
    {
     "name": "stdout",
     "output_type": "stream",
     "text": [
      "<class 'int'>\n"
     ]
    }
   ],
   "source": [
    "print(a.__class__)"
   ]
  },
  {
   "cell_type": "code",
   "execution_count": 4,
   "metadata": {},
   "outputs": [
    {
     "name": "stdout",
     "output_type": "stream",
     "text": [
      "<class 'type'>\n"
     ]
    }
   ],
   "source": [
    "print(type(int))"
   ]
  },
  {
   "cell_type": "markdown",
   "metadata": {},
   "source": [
    "Раз все является объектом, то есть конструкторы"
   ]
  },
  {
   "cell_type": "code",
   "execution_count": 2,
   "metadata": {},
   "outputs": [
    {
     "data": {
      "text/plain": [
       "7"
      ]
     },
     "execution_count": 2,
     "metadata": {},
     "output_type": "execute_result"
    }
   ],
   "source": [
    "b = int(7)\n",
    "b"
   ]
  },
  {
   "cell_type": "markdown",
   "metadata": {},
   "source": [
    "В том числе конструкторы по умолчанию"
   ]
  },
  {
   "cell_type": "code",
   "execution_count": 4,
   "metadata": {},
   "outputs": [
    {
     "data": {
      "text/plain": [
       "0"
      ]
     },
     "execution_count": 4,
     "metadata": {},
     "output_type": "execute_result"
    }
   ],
   "source": [
    "int()"
   ]
  },
  {
   "cell_type": "code",
   "execution_count": 5,
   "metadata": {},
   "outputs": [
    {
     "name": "stdout",
     "output_type": "stream",
     "text": [
      "<class 'type'>\n"
     ]
    }
   ],
   "source": [
    "print(type(int))"
   ]
  },
  {
   "cell_type": "markdown",
   "metadata": {},
   "source": [
    "## Class example"
   ]
  },
  {
   "cell_type": "code",
   "execution_count": 8,
   "metadata": {
    "collapsed": true
   },
   "outputs": [],
   "source": [
    "import random\n",
    "\n",
    "random.seed(1)\n",
    "\n",
    "# объявление класса\n",
    "class SchredingerCat:\n",
    "    \n",
    "    # конструктор. Он вызывается при создании объекта. Обычно в нем просходит объявление полей\n",
    "    def __init__(self, name):\n",
    "        # поле \n",
    "        self._name = name\n",
    "        self.experiment_result = random.random() >= 0.5\n",
    "    \n",
    "    # метод \n",
    "    def get_name(self):\n",
    "        return self._name\n",
    "    \n",
    "    # метод \n",
    "    def is_alive(self):\n",
    "        return self.experiment_result"
   ]
  },
  {
   "cell_type": "markdown",
   "metadata": {},
   "source": [
    "Каждый экземпляр класса имееет свои поля"
   ]
  },
  {
   "cell_type": "code",
   "execution_count": 9,
   "metadata": {},
   "outputs": [
    {
     "name": "stdout",
     "output_type": "stream",
     "text": [
      "name cat_0, alive: False\n",
      "name cat_1, alive: True\n",
      "name cat_2, alive: True\n",
      "name cat_3, alive: False\n",
      "name cat_4, alive: False\n",
      "name cat_5, alive: False\n",
      "name cat_6, alive: True\n",
      "name cat_7, alive: True\n",
      "name cat_8, alive: False\n",
      "name cat_9, alive: False\n"
     ]
    }
   ],
   "source": [
    "for i in range(10):\n",
    "    cat = SchredingerCat('cat_%d' % i)\n",
    "    print('name %s, alive: %s' % (cat.get_name(), cat.is_alive()))"
   ]
  },
  {
   "cell_type": "markdown",
   "metadata": {},
   "source": [
    "### Memory "
   ]
  },
  {
   "cell_type": "markdown",
   "metadata": {},
   "source": [
    "Каждому объекту в питоне выделяется свой кусок памяти\n",
    "встроенная функция id возвращает адрес объекта в памяти "
   ]
  },
  {
   "cell_type": "code",
   "execution_count": 10,
   "metadata": {},
   "outputs": [
    {
     "data": {
      "text/plain": [
       "('0x7f0fd44bc470', '0x7f0fd44bc5f8')"
      ]
     },
     "execution_count": 10,
     "metadata": {},
     "output_type": "execute_result"
    }
   ],
   "source": [
    "cat1 = SchredingerCat('a')\n",
    "cat2 = SchredingerCat('a')\n",
    "hex(id(cat1)), hex(id(cat2))"
   ]
  },
  {
   "cell_type": "markdown",
   "metadata": {},
   "source": [
    "Механизмы ООП в питоне в основном реализованы через ссылки. У каждого объекта есть служебное поле \\__class__, \n",
    "которое указывает на объект класса, экземпляром которого является данный объект.  "
   ]
  },
  {
   "cell_type": "code",
   "execution_count": 11,
   "metadata": {},
   "outputs": [
    {
     "data": {
      "text/plain": [
       "('0x1b39818', '0x1b39818')"
      ]
     },
     "execution_count": 11,
     "metadata": {},
     "output_type": "execute_result"
    }
   ],
   "source": [
    "hex(id(cat1.__class__)), hex(id(cat2.__class__))"
   ]
  },
  {
   "cell_type": "markdown",
   "metadata": {},
   "source": [
    "### Class attributes"
   ]
  },
  {
   "cell_type": "markdown",
   "metadata": {},
   "source": [
    "У класса также могут быть свои поля, которые принадлежат не объекту экземпляра класса, а объекту класса."
   ]
  },
  {
   "cell_type": "code",
   "execution_count": 11,
   "metadata": {
    "collapsed": true
   },
   "outputs": [],
   "source": [
    "import random\n",
    "\n",
    "class SchredingerCat:\n",
    "    prob_threshold = 0.5\n",
    "    \n",
    "    def __init__(self, name):\n",
    "        self._name = name\n",
    "        self.experiment_result = random.random() >= self.prob_threshold\n",
    "    \n",
    "    def get_name(self):\n",
    "        return self._name\n",
    "    \n",
    "    def is_alive(self):\n",
    "        return self.experiment_result"
   ]
  },
  {
   "cell_type": "markdown",
   "metadata": {},
   "source": [
    "Обратите внимение, что ссылка на поле prob_threshold одинакова у всех экземпляров класса "
   ]
  },
  {
   "cell_type": "code",
   "execution_count": 12,
   "metadata": {},
   "outputs": [
    {
     "data": {
      "text/plain": [
       "(0.5, '0x7f46f7c56480')"
      ]
     },
     "execution_count": 12,
     "metadata": {},
     "output_type": "execute_result"
    }
   ],
   "source": [
    "SchredingerCat.prob_threshold, hex(id(SchredingerCat.prob_threshold))"
   ]
  },
  {
   "cell_type": "code",
   "execution_count": 13,
   "metadata": {},
   "outputs": [
    {
     "data": {
      "text/plain": [
       "(0.5, '0x7f46f7c56480')"
      ]
     },
     "execution_count": 13,
     "metadata": {},
     "output_type": "execute_result"
    }
   ],
   "source": [
    "cat1 = SchredingerCat('a')\n",
    "cat1.prob_threshold, hex(id(cat1.prob_threshold))"
   ]
  },
  {
   "cell_type": "code",
   "execution_count": 14,
   "metadata": {},
   "outputs": [
    {
     "data": {
      "text/plain": [
       "(0.5, '0x7f46f7c56480')"
      ]
     },
     "execution_count": 14,
     "metadata": {},
     "output_type": "execute_result"
    }
   ],
   "source": [
    "cat2 = SchredingerCat('b')\n",
    "cat2.prob_threshold, hex(id(cat2.prob_threshold))"
   ]
  },
  {
   "cell_type": "code",
   "execution_count": 15,
   "metadata": {},
   "outputs": [
    {
     "data": {
      "text/plain": [
       "(0.7, '0x7f46f7c564e0')"
      ]
     },
     "execution_count": 15,
     "metadata": {},
     "output_type": "execute_result"
    }
   ],
   "source": [
    "SchredingerCat.prob_threshold = 0.7\n",
    "SchredingerCat.prob_threshold, hex(id(SchredingerCat.prob_threshold))"
   ]
  },
  {
   "cell_type": "code",
   "execution_count": 16,
   "metadata": {},
   "outputs": [
    {
     "data": {
      "text/plain": [
       "(0.7, '0x7f46f7c564e0')"
      ]
     },
     "execution_count": 16,
     "metadata": {},
     "output_type": "execute_result"
    }
   ],
   "source": [
    "cat1.prob_threshold, hex(id(cat1.prob_threshold))"
   ]
  },
  {
   "cell_type": "code",
   "execution_count": 17,
   "metadata": {},
   "outputs": [
    {
     "data": {
      "text/plain": [
       "(0.7, '0x7f46f7c564e0')"
      ]
     },
     "execution_count": 17,
     "metadata": {},
     "output_type": "execute_result"
    }
   ],
   "source": [
    "cat2.prob_threshold, hex(id(cat2.prob_threshold))"
   ]
  },
  {
   "cell_type": "markdown",
   "metadata": {},
   "source": [
    "Если мы попытаемся изменить поле класса через экземпляр, то у экземпляра просто будет создан новый атрибут-поле с таким же именем.\n",
    "Измение не передатся в другие экзепляры класса"
   ]
  },
  {
   "cell_type": "code",
   "execution_count": 18,
   "metadata": {},
   "outputs": [
    {
     "data": {
      "text/plain": [
       "(0.2, '0x7f46f7c564f8')"
      ]
     },
     "execution_count": 18,
     "metadata": {},
     "output_type": "execute_result"
    }
   ],
   "source": [
    "cat1.prob_threshold = 0.2\n",
    "cat1.prob_threshold, hex(id(cat1.prob_threshold))"
   ]
  },
  {
   "cell_type": "code",
   "execution_count": 19,
   "metadata": {},
   "outputs": [
    {
     "data": {
      "text/plain": [
       "(0.7, '0x7f46f7c564e0')"
      ]
     },
     "execution_count": 19,
     "metadata": {},
     "output_type": "execute_result"
    }
   ],
   "source": [
    "cat2.prob_threshold, hex(id(cat2.prob_threshold))"
   ]
  },
  {
   "cell_type": "code",
   "execution_count": 20,
   "metadata": {},
   "outputs": [
    {
     "data": {
      "text/plain": [
       "(0.7, '0x7f46f7c564e0')"
      ]
     },
     "execution_count": 20,
     "metadata": {},
     "output_type": "execute_result"
    }
   ],
   "source": [
    "SchredingerCat.prob_threshold, hex(id(SchredingerCat.prob_threshold))"
   ]
  },
  {
   "cell_type": "markdown",
   "metadata": {},
   "source": [
    "### \\__dict__ attribute"
   ]
  },
  {
   "cell_type": "markdown",
   "metadata": {},
   "source": [
    "В упрощенном виде можно считать, что все объекты в питоне реализуются в виде словаря. Служебное поле \\__dict___ позволяет работать с объектом как со словарем"
   ]
  },
  {
   "cell_type": "code",
   "execution_count": 21,
   "metadata": {},
   "outputs": [
    {
     "data": {
      "text/plain": [
       "mappingproxy({'__dict__': <attribute '__dict__' of 'SchredingerCat' objects>,\n",
       "              '__doc__': None,\n",
       "              '__init__': <function __main__.SchredingerCat.__init__>,\n",
       "              '__module__': '__main__',\n",
       "              '__weakref__': <attribute '__weakref__' of 'SchredingerCat' objects>,\n",
       "              'get_name': <function __main__.SchredingerCat.get_name>,\n",
       "              'is_alive': <function __main__.SchredingerCat.is_alive>,\n",
       "              'prob_threshold': 0.7})"
      ]
     },
     "execution_count": 21,
     "metadata": {},
     "output_type": "execute_result"
    }
   ],
   "source": [
    "SchredingerCat.__dict__"
   ]
  },
  {
   "cell_type": "code",
   "execution_count": 22,
   "metadata": {},
   "outputs": [
    {
     "name": "stdout",
     "output_type": "stream",
     "text": [
      "<class 'dict'>\n"
     ]
    },
    {
     "data": {
      "text/plain": [
       "{'_name': 'b', 'experiment_result': True}"
      ]
     },
     "execution_count": 22,
     "metadata": {},
     "output_type": "execute_result"
    }
   ],
   "source": [
    "print(type(cat1.__dict__))\n",
    "cat2.__dict__"
   ]
  },
  {
   "cell_type": "code",
   "execution_count": 23,
   "metadata": {},
   "outputs": [
    {
     "data": {
      "text/plain": [
       "{'_name': 'a', 'experiment_result': True, 'prob_threshold': 0.2}"
      ]
     },
     "execution_count": 23,
     "metadata": {},
     "output_type": "execute_result"
    }
   ],
   "source": [
    "cat1.__dict__"
   ]
  },
  {
   "cell_type": "code",
   "execution_count": 24,
   "metadata": {},
   "outputs": [
    {
     "ename": "KeyError",
     "evalue": "'prob_threshold'",
     "output_type": "error",
     "traceback": [
      "\u001b[0;31m---------------------------------------------------------------------------\u001b[0m",
      "\u001b[0;31mKeyError\u001b[0m                                  Traceback (most recent call last)",
      "\u001b[0;32m<ipython-input-24-fccebfb19cf2>\u001b[0m in \u001b[0;36m<module>\u001b[0;34m()\u001b[0m\n\u001b[0;32m----> 1\u001b[0;31m \u001b[0mcat2\u001b[0m\u001b[0;34m.\u001b[0m\u001b[0m__dict__\u001b[0m\u001b[0;34m[\u001b[0m\u001b[0;34m'prob_threshold'\u001b[0m\u001b[0;34m]\u001b[0m\u001b[0;34m\u001b[0m\u001b[0m\n\u001b[0m",
      "\u001b[0;31mKeyError\u001b[0m: 'prob_threshold'"
     ]
    }
   ],
   "source": [
    "cat2.__dict__['prob_threshold']"
   ]
  },
  {
   "cell_type": "code",
   "execution_count": 25,
   "metadata": {},
   "outputs": [
    {
     "data": {
      "text/plain": [
       "0.7"
      ]
     },
     "execution_count": 25,
     "metadata": {},
     "output_type": "execute_result"
    }
   ],
   "source": [
    "cat2.__class__.__dict__['prob_threshold']"
   ]
  },
  {
   "cell_type": "markdown",
   "metadata": {},
   "source": [
    "### Docstring\n",
    "Встроенная документация"
   ]
  },
  {
   "cell_type": "code",
   "execution_count": 26,
   "metadata": {
    "collapsed": true
   },
   "outputs": [],
   "source": [
    "class SchredingerCat:\n",
    "    \"\"\"\n",
    "    Cat in the cage with radioactive element and cyanid\n",
    "    Poor cat...\n",
    "    \"\"\"\n",
    "    prob_threshold = 0.5\n",
    "    \n",
    "    def __init__(self, name):\n",
    "        self._name = name\n",
    "        self.experiment_result = random.random() >= self.prob_threshold\n",
    "    \n",
    "    def get_name(self):\n",
    "        return self._name\n",
    "    \n",
    "    def is_alive(self):\n",
    "        \"\"\"\n",
    "        is cat alive based on Schredinger's experiment\n",
    "        \"\"\"\n",
    "        return self.experiment_result"
   ]
  },
  {
   "cell_type": "markdown",
   "metadata": {},
   "source": [
    "Встроенная функция help возвращает документацию"
   ]
  },
  {
   "cell_type": "code",
   "execution_count": 28,
   "metadata": {},
   "outputs": [
    {
     "name": "stdout",
     "output_type": "stream",
     "text": [
      "Help on class SchredingerCat in module __main__:\n",
      "\n",
      "class SchredingerCat(builtins.object)\n",
      " |  Cat in the cage with radioactive element and cyanid\n",
      " |  Poor cat...\n",
      " |  \n",
      " |  Methods defined here:\n",
      " |  \n",
      " |  __init__(self, name)\n",
      " |      Initialize self.  See help(type(self)) for accurate signature.\n",
      " |  \n",
      " |  get_name(self)\n",
      " |  \n",
      " |  is_alive(self)\n",
      " |      is cat alive based on Schredinger's experiment\n",
      " |  \n",
      " |  ----------------------------------------------------------------------\n",
      " |  Data descriptors defined here:\n",
      " |  \n",
      " |  __dict__\n",
      " |      dictionary for instance variables (if defined)\n",
      " |  \n",
      " |  __weakref__\n",
      " |      list of weak references to the object (if defined)\n",
      " |  \n",
      " |  ----------------------------------------------------------------------\n",
      " |  Data and other attributes defined here:\n",
      " |  \n",
      " |  prob_threshold = 0.5\n",
      "\n"
     ]
    }
   ],
   "source": [
    "help(SchredingerCat)"
   ]
  },
  {
   "cell_type": "markdown",
   "metadata": {},
   "source": [
    "### operator \"is\""
   ]
  },
  {
   "cell_type": "markdown",
   "metadata": {},
   "source": [
    "Чтобы выяснить, являются ли две переменные ссылкой на один и тот же объект, можно не сравнивать адреса на прямую, а пользоваться оператором \"is\""
   ]
  },
  {
   "cell_type": "code",
   "execution_count": 31,
   "metadata": {},
   "outputs": [
    {
     "data": {
      "text/plain": [
       "False"
      ]
     },
     "execution_count": 31,
     "metadata": {},
     "output_type": "execute_result"
    }
   ],
   "source": [
    "cat1 = SchredingerCat('a')\n",
    "cat1.prob_threshold = 0.2\n",
    "cat1.prob_threshold is SchredingerCat.prob_threshold"
   ]
  },
  {
   "cell_type": "code",
   "execution_count": 34,
   "metadata": {},
   "outputs": [
    {
     "data": {
      "text/plain": [
       "True"
      ]
     },
     "execution_count": 34,
     "metadata": {},
     "output_type": "execute_result"
    }
   ],
   "source": [
    "cat2 = SchredingerCat('b')\n",
    "cat2.prob_threshold is SchredingerCat.prob_threshold"
   ]
  },
  {
   "cell_type": "markdown",
   "metadata": {},
   "source": [
    "### Methods"
   ]
  },
  {
   "cell_type": "markdown",
   "metadata": {},
   "source": [
    "С методами все немного подругому..."
   ]
  },
  {
   "cell_type": "code",
   "execution_count": 35,
   "metadata": {},
   "outputs": [
    {
     "data": {
      "text/plain": [
       "False"
      ]
     },
     "execution_count": 35,
     "metadata": {},
     "output_type": "execute_result"
    }
   ],
   "source": [
    "cat1.is_alive is SchredingerCat.is_alive"
   ]
  },
  {
   "cell_type": "markdown",
   "metadata": {},
   "source": [
    "Для объекта класса метод является обычной функцией"
   ]
  },
  {
   "cell_type": "code",
   "execution_count": 38,
   "metadata": {},
   "outputs": [
    {
     "data": {
      "text/plain": [
       "<function __main__.SchredingerCat.is_alive>"
      ]
     },
     "execution_count": 38,
     "metadata": {},
     "output_type": "execute_result"
    }
   ],
   "source": [
    "SchredingerCat.is_alive"
   ]
  },
  {
   "cell_type": "markdown",
   "metadata": {},
   "source": [
    "А для объекта экземпляра метод - является связанной функцией, для который действует особый порядок обработки, при котором первым аргументом в метод передается ссылка на объект экземпляра"
   ]
  },
  {
   "cell_type": "code",
   "execution_count": 39,
   "metadata": {},
   "outputs": [
    {
     "data": {
      "text/plain": [
       "<bound method SchredingerCat.is_alive of <__main__.SchredingerCat object at 0x7f46f428d390>>"
      ]
     },
     "execution_count": 39,
     "metadata": {},
     "output_type": "execute_result"
    }
   ],
   "source": [
    "cat1.is_alive"
   ]
  },
  {
   "cell_type": "markdown",
   "metadata": {},
   "source": [
    "#### bound method = function inside object"
   ]
  },
  {
   "cell_type": "code",
   "execution_count": 40,
   "metadata": {},
   "outputs": [
    {
     "ename": "TypeError",
     "evalue": "is_alive() missing 1 required positional argument: 'self'",
     "output_type": "error",
     "traceback": [
      "\u001b[0;31m---------------------------------------------------------------------------\u001b[0m",
      "\u001b[0;31mTypeError\u001b[0m                                 Traceback (most recent call last)",
      "\u001b[0;32m<ipython-input-40-67a5b7762967>\u001b[0m in \u001b[0;36m<module>\u001b[0;34m()\u001b[0m\n\u001b[0;32m----> 1\u001b[0;31m \u001b[0mSchredingerCat\u001b[0m\u001b[0;34m.\u001b[0m\u001b[0mis_alive\u001b[0m\u001b[0;34m(\u001b[0m\u001b[0;34m)\u001b[0m\u001b[0;34m\u001b[0m\u001b[0m\n\u001b[0m",
      "\u001b[0;31mTypeError\u001b[0m: is_alive() missing 1 required positional argument: 'self'"
     ]
    }
   ],
   "source": [
    "SchredingerCat.is_alive()"
   ]
  },
  {
   "cell_type": "code",
   "execution_count": 41,
   "metadata": {},
   "outputs": [
    {
     "data": {
      "text/plain": [
       "True"
      ]
     },
     "execution_count": 41,
     "metadata": {},
     "output_type": "execute_result"
    }
   ],
   "source": [
    "SchredingerCat.is_alive(cat1)"
   ]
  },
  {
   "cell_type": "code",
   "execution_count": 42,
   "metadata": {},
   "outputs": [
    {
     "data": {
      "text/plain": [
       "<function __main__.SchredingerCat.is_alive>"
      ]
     },
     "execution_count": 42,
     "metadata": {},
     "output_type": "execute_result"
    }
   ],
   "source": [
    "cat1.__class__.__dict__['is_alive']"
   ]
  },
  {
   "cell_type": "markdown",
   "metadata": {},
   "source": [
    "### Classmethod"
   ]
  },
  {
   "cell_type": "markdown",
   "metadata": {},
   "source": [
    "Кроме полей класса, объект класса также может иметь методы класса, в которых вместо ссылки на объект экзепляра (self), передается ссылка на объект класса (cls)"
   ]
  },
  {
   "cell_type": "code",
   "execution_count": 49,
   "metadata": {
    "collapsed": true
   },
   "outputs": [],
   "source": [
    "class SchredingerCat:\n",
    "    prob_threshold = 0.5\n",
    "    \n",
    "    def __init__(self, name):\n",
    "        self._name = name\n",
    "        self.experiment_result = random.random() >= self.prob_threshold\n",
    "    \n",
    "    def get_name(self):\n",
    "        return self._name\n",
    "    \n",
    "    def is_alive(self):\n",
    "        return self.experiment_result\n",
    "    \n",
    "    # нужно использовать декоратор classmethod\n",
    "    @classmethod\n",
    "    def voice(cls):\n",
    "        return 'meow with prob %.1f' % cls.prob_threshold"
   ]
  },
  {
   "cell_type": "markdown",
   "metadata": {},
   "source": [
    "Методы класса имеют доступ только к полям класса. Они не имеют доступа к полям экзепляров класса"
   ]
  },
  {
   "cell_type": "code",
   "execution_count": 44,
   "metadata": {},
   "outputs": [
    {
     "data": {
      "text/plain": [
       "'meow with prob 0.5'"
      ]
     },
     "execution_count": 44,
     "metadata": {},
     "output_type": "execute_result"
    }
   ],
   "source": [
    "cat1 = SchredingerCat('a')\n",
    "cat1.voice()"
   ]
  },
  {
   "cell_type": "code",
   "execution_count": 45,
   "metadata": {},
   "outputs": [
    {
     "data": {
      "text/plain": [
       "'meow with prob 0.5'"
      ]
     },
     "execution_count": 45,
     "metadata": {},
     "output_type": "execute_result"
    }
   ],
   "source": [
    "SchredingerCat.voice()"
   ]
  },
  {
   "cell_type": "code",
   "execution_count": 46,
   "metadata": {},
   "outputs": [
    {
     "data": {
      "text/plain": [
       "<bound method SchredingerCat.voice of <class '__main__.SchredingerCat'>>"
      ]
     },
     "execution_count": 46,
     "metadata": {},
     "output_type": "execute_result"
    }
   ],
   "source": [
    "SchredingerCat.voice"
   ]
  },
  {
   "cell_type": "code",
   "execution_count": 47,
   "metadata": {},
   "outputs": [
    {
     "data": {
      "text/plain": [
       "<bound method SchredingerCat.voice of <class '__main__.SchredingerCat'>>"
      ]
     },
     "execution_count": 47,
     "metadata": {},
     "output_type": "execute_result"
    }
   ],
   "source": [
    "cat1.voice"
   ]
  },
  {
   "cell_type": "markdown",
   "metadata": {},
   "source": [
    "Технически экземпляры класса получают доступ к методам класса через атрибут \\__class__"
   ]
  },
  {
   "cell_type": "code",
   "execution_count": 48,
   "metadata": {},
   "outputs": [
    {
     "data": {
      "text/plain": [
       "<classmethod at 0x7f46f42b7208>"
      ]
     },
     "execution_count": 48,
     "metadata": {},
     "output_type": "execute_result"
    }
   ],
   "source": [
    "cat1.__class__.__dict__['voice']"
   ]
  },
  {
   "cell_type": "markdown",
   "metadata": {},
   "source": [
    "### Inheritance"
   ]
  },
  {
   "cell_type": "code",
   "execution_count": 50,
   "metadata": {
    "collapsed": true
   },
   "outputs": [],
   "source": [
    "class Cat:\n",
    "    char_voice = 'meow'\n",
    "    \n",
    "    def __init__(self, name):\n",
    "        self._name = name\n",
    "    \n",
    "    def get_name(self):\n",
    "        return self._name\n",
    "    \n",
    "    def is_alive(self):\n",
    "        return True\n",
    "    \n",
    "    @classmethod\n",
    "    def voice(cls):\n",
    "        return cls.char_voice\n",
    "    \n",
    "# в круглых скобках указывают через запятую базовые классы\n",
    "class WildCat(Cat):\n",
    "    pass"
   ]
  },
  {
   "cell_type": "code",
   "execution_count": 51,
   "metadata": {
    "collapsed": true
   },
   "outputs": [],
   "source": [
    "cat = WildCat('boo')"
   ]
  },
  {
   "cell_type": "markdown",
   "metadata": {},
   "source": [
    "Класс потомок разделяет с родителем родительские поля класса"
   ]
  },
  {
   "cell_type": "code",
   "execution_count": 53,
   "metadata": {},
   "outputs": [
    {
     "data": {
      "text/plain": [
       "True"
      ]
     },
     "execution_count": 53,
     "metadata": {},
     "output_type": "execute_result"
    }
   ],
   "source": [
    "WildCat.char_voice is Cat.char_voice"
   ]
  },
  {
   "cell_type": "code",
   "execution_count": 54,
   "metadata": {},
   "outputs": [
    {
     "data": {
      "text/plain": [
       "True"
      ]
     },
     "execution_count": 54,
     "metadata": {},
     "output_type": "execute_result"
    }
   ],
   "source": [
    "cat.char_voice is Cat.char_voice"
   ]
  },
  {
   "cell_type": "code",
   "execution_count": 55,
   "metadata": {},
   "outputs": [
    {
     "data": {
      "text/plain": [
       "mappingproxy({'__doc__': None, '__module__': '__main__'})"
      ]
     },
     "execution_count": 55,
     "metadata": {},
     "output_type": "execute_result"
    }
   ],
   "source": [
    "cat.__class__.__dict__"
   ]
  },
  {
   "cell_type": "markdown",
   "metadata": {},
   "source": [
    "Список родительских классов содержится в атрибуте \\__bases__ объекта класса-потомка"
   ]
  },
  {
   "cell_type": "code",
   "execution_count": 56,
   "metadata": {},
   "outputs": [
    {
     "data": {
      "text/plain": [
       "(__main__.Cat,)"
      ]
     },
     "execution_count": 56,
     "metadata": {},
     "output_type": "execute_result"
    }
   ],
   "source": [
    "WildCat.__bases__"
   ]
  },
  {
   "cell_type": "markdown",
   "metadata": {},
   "source": [
    "Переопределени методов в классе-потомке. Реализация наследования"
   ]
  },
  {
   "cell_type": "code",
   "execution_count": 63,
   "metadata": {
    "collapsed": true
   },
   "outputs": [],
   "source": [
    "class Cat:\n",
    "    char_voice = 'meow'\n",
    "    \n",
    "    def __init__(self, name):\n",
    "        self._name = name\n",
    "    \n",
    "    def get_name(self):\n",
    "        return self._name\n",
    "    \n",
    "    def is_alive(self):\n",
    "        return True\n",
    "    \n",
    "    @classmethod\n",
    "    def voice(cls):\n",
    "        return cls.char_voice\n",
    "    \n",
    "class SchredingerCat(Cat):\n",
    "    prob_threshold = 0.5\n",
    "    \n",
    "    def __init__(self, name):\n",
    "        # вызов конструктора предка - плохой пример\n",
    "        Cat.__init__(self,name)\n",
    "        self.experiment_result = random.random() >= self.prob_threshold\n",
    "    \n",
    "    def is_alive(self):\n",
    "        return self.experiment_result\n",
    "    \n",
    "    # переопределяем метод\n",
    "    def voice(self):\n",
    "        return '%s says %s with prob %.1f' % (Cat.get_name(self), self.char_voice, self.prob_threshold)"
   ]
  },
  {
   "cell_type": "code",
   "execution_count": 64,
   "metadata": {},
   "outputs": [
    {
     "data": {
      "text/plain": [
       "mappingproxy({'__doc__': None,\n",
       "              '__init__': <function __main__.SchredingerCat.__init__>,\n",
       "              '__module__': '__main__',\n",
       "              'is_alive': <function __main__.SchredingerCat.is_alive>,\n",
       "              'prob_threshold': 0.5,\n",
       "              'voice': <function __main__.SchredingerCat.voice>})"
      ]
     },
     "execution_count": 64,
     "metadata": {},
     "output_type": "execute_result"
    }
   ],
   "source": [
    "SchredingerCat.__dict__"
   ]
  },
  {
   "cell_type": "code",
   "execution_count": 65,
   "metadata": {},
   "outputs": [
    {
     "data": {
      "text/plain": [
       "'boo says meow with prob 0.5'"
      ]
     },
     "execution_count": 65,
     "metadata": {},
     "output_type": "execute_result"
    }
   ],
   "source": [
    "cat = SchredingerCat('boo')\n",
    "cat.voice()"
   ]
  },
  {
   "cell_type": "code",
   "execution_count": 66,
   "metadata": {},
   "outputs": [
    {
     "name": "stdout",
     "output_type": "stream",
     "text": [
      "<function SchredingerCat.voice at 0x7f46f41a2730>\n"
     ]
    },
    {
     "data": {
      "text/plain": [
       "'0x7f46f41a2730'"
      ]
     },
     "execution_count": 66,
     "metadata": {},
     "output_type": "execute_result"
    }
   ],
   "source": [
    "print(SchredingerCat.voice)\n",
    "hex(id(SchredingerCat.voice))"
   ]
  },
  {
   "cell_type": "code",
   "execution_count": 67,
   "metadata": {},
   "outputs": [
    {
     "name": "stdout",
     "output_type": "stream",
     "text": [
      "<bound method Cat.voice of <class '__main__.Cat'>>\n"
     ]
    },
    {
     "data": {
      "text/plain": [
       "'0x7f46f7b98288'"
      ]
     },
     "execution_count": 67,
     "metadata": {},
     "output_type": "execute_result"
    }
   ],
   "source": [
    "print(Cat.voice)\n",
    "hex(id(Cat.voice))"
   ]
  },
  {
   "cell_type": "code",
   "execution_count": 68,
   "metadata": {
    "collapsed": true
   },
   "outputs": [],
   "source": [
    "class Cat:\n",
    "    char_voice = 'meow'\n",
    "    \n",
    "    def __init__(self, name):\n",
    "        self._name = name\n",
    "    \n",
    "    def get_name(self):\n",
    "        return self._name\n",
    "    \n",
    "    def is_alive(self):\n",
    "        return True\n",
    "    \n",
    "    @classmethod\n",
    "    def voice(cls):\n",
    "        return cls.char_voice\n",
    "    \n",
    "class SchredingerCat(Cat):\n",
    "    prob_threshold = 0.5\n",
    "    \n",
    "    def __init__(self, name):\n",
    "        # лучше обращаться к родительскому классу через встроенную функцию super()\n",
    "        super().__init__(name)\n",
    "        self.experiment_result = random.random() >= self.prob_threshold\n",
    "    \n",
    "    def is_alive(self):\n",
    "        return self.experiment_result\n",
    "    \n",
    "    def voice(self):\n",
    "        return '%s says %s with prob %.1f' % (super().get_name(), self.char_voice, self.prob_threshold)"
   ]
  },
  {
   "cell_type": "code",
   "execution_count": 69,
   "metadata": {},
   "outputs": [
    {
     "data": {
      "text/plain": [
       "'boo says meow with prob 0.5'"
      ]
     },
     "execution_count": 69,
     "metadata": {},
     "output_type": "execute_result"
    }
   ],
   "source": [
    "cat = SchredingerCat('boo')\n",
    "cat.voice()"
   ]
  },
  {
   "cell_type": "markdown",
   "metadata": {},
   "source": [
    "### Composition"
   ]
  },
  {
   "cell_type": "markdown",
   "metadata": {},
   "source": [
    "Композиция является альтернативой наследованию"
   ]
  },
  {
   "cell_type": "code",
   "execution_count": 70,
   "metadata": {
    "collapsed": true
   },
   "outputs": [],
   "source": [
    "class SchredingerExperiment:\n",
    "    prob_threshold = 0.5\n",
    "    \n",
    "    def __init__(self, name):\n",
    "        self.cat = Cat(name)\n",
    "        self.experiment_result = random.random() >= self.prob_threshold\n",
    "    \n",
    "    def is_alive(self):\n",
    "        return self.experiment_result\n",
    "    \n",
    "    def cats_voice(self):\n",
    "        return '%s says %s with prob %.1f' % (self.cat.get_name(), self.cat.char_voice, self.prob_threshold)"
   ]
  },
  {
   "cell_type": "code",
   "execution_count": 71,
   "metadata": {},
   "outputs": [
    {
     "data": {
      "text/plain": [
       "'boo says meow with prob 0.5'"
      ]
     },
     "execution_count": 71,
     "metadata": {},
     "output_type": "execute_result"
    }
   ],
   "source": [
    "ex = SchredingerExperiment('boo')\n",
    "ex.cats_voice()"
   ]
  },
  {
   "cell_type": "code",
   "execution_count": 72,
   "metadata": {
    "collapsed": true
   },
   "outputs": [],
   "source": [
    "class SchredingerExperiment:\n",
    "    prob_threshold = 0.5\n",
    "    \n",
    "    def __init__(self, name):\n",
    "        self.cat = Cat(name)\n",
    "        self.experiment_result = random.random() >= self.prob_threshold\n",
    "    \n",
    "    def is_alive(self):\n",
    "        return self.experiment_result\n",
    "    \n",
    "    def cats_voice(self):\n",
    "        return '%s says %s with prob %.1f' % (self.cat.get_name(), self.cat.char_voice, self.prob_threshold)\n",
    "    \n",
    "    def __getattr__(self, attr):\n",
    "        return getattr(self.cat, attr)"
   ]
  },
  {
   "cell_type": "code",
   "execution_count": 73,
   "metadata": {},
   "outputs": [
    {
     "data": {
      "text/plain": [
       "'boo'"
      ]
     },
     "execution_count": 73,
     "metadata": {},
     "output_type": "execute_result"
    }
   ],
   "source": [
    "ex = SchredingerExperiment('boo')\n",
    "ex.get_name()"
   ]
  },
  {
   "cell_type": "markdown",
   "metadata": {},
   "source": [
    "### Polymorphism"
   ]
  },
  {
   "cell_type": "markdown",
   "metadata": {},
   "source": [
    "Полиморфизм утверждает, что базовый класс определяет интерфейс работы (набор методов) с категорией объектов (который этот базовый класс представляет), вся специфика работы с конкретными видами должна быть реализована в классах потомках через этот интерфейс (путем переопределения методов в классах-потомках)"
   ]
  },
  {
   "cell_type": "code",
   "execution_count": 74,
   "metadata": {},
   "outputs": [
    {
     "data": {
      "text/plain": [
       "'0x7f47027a1ac0'"
      ]
     },
     "execution_count": 74,
     "metadata": {},
     "output_type": "execute_result"
    }
   ],
   "source": [
    "x = 1\n",
    "hex(id(x))"
   ]
  },
  {
   "cell_type": "code",
   "execution_count": 75,
   "metadata": {},
   "outputs": [
    {
     "data": {
      "text/plain": [
       "'0x7f46fdcbe5a8'"
      ]
     },
     "execution_count": 75,
     "metadata": {},
     "output_type": "execute_result"
    }
   ],
   "source": [
    "x = 'boo'\n",
    "hex(id(x))"
   ]
  },
  {
   "cell_type": "code",
   "execution_count": 76,
   "metadata": {},
   "outputs": [
    {
     "data": {
      "text/plain": [
       "(3, 3)"
      ]
     },
     "execution_count": 76,
     "metadata": {},
     "output_type": "execute_result"
    }
   ],
   "source": [
    "len([1,2,3]), [1,2,3].__len__()"
   ]
  },
  {
   "cell_type": "code",
   "execution_count": 77,
   "metadata": {},
   "outputs": [
    {
     "data": {
      "text/plain": [
       "(4, 4)"
      ]
     },
     "execution_count": 77,
     "metadata": {},
     "output_type": "execute_result"
    }
   ],
   "source": [
    "len('asdd'), 'asdd'.__len__()"
   ]
  },
  {
   "cell_type": "code",
   "execution_count": 78,
   "metadata": {},
   "outputs": [
    {
     "ename": "TypeError",
     "evalue": "object of type 'int' has no len()",
     "output_type": "error",
     "traceback": [
      "\u001b[0;31m---------------------------------------------------------------------------\u001b[0m",
      "\u001b[0;31mTypeError\u001b[0m                                 Traceback (most recent call last)",
      "\u001b[0;32m<ipython-input-78-375e86089a3d>\u001b[0m in \u001b[0;36m<module>\u001b[0;34m()\u001b[0m\n\u001b[0;32m----> 1\u001b[0;31m \u001b[0mlen\u001b[0m\u001b[0;34m(\u001b[0m\u001b[0;36m5\u001b[0m\u001b[0;34m)\u001b[0m\u001b[0;34m\u001b[0m\u001b[0m\n\u001b[0m",
      "\u001b[0;31mTypeError\u001b[0m: object of type 'int' has no len()"
     ]
    }
   ],
   "source": [
    "len(5)"
   ]
  },
  {
   "cell_type": "markdown",
   "metadata": {},
   "source": [
    "Пример полиморфизма"
   ]
  },
  {
   "cell_type": "code",
   "execution_count": 85,
   "metadata": {
    "collapsed": true
   },
   "outputs": [],
   "source": [
    "class Cat:\n",
    "    def voice(self):\n",
    "        return 'meow'\n",
    "    \n",
    "    def is_scary(self):\n",
    "        return False\n",
    "    \n",
    "class TigerCat(Cat):\n",
    "    def __init__(self, grr='GRRRR'):\n",
    "        self.grr = grr\n",
    "    def voice(self):\n",
    "        return self.grr\n",
    "    \n",
    "    def is_scary(self):\n",
    "        return self.voice().isupper()\n",
    "    \n",
    "class SchredingerTigerCat(TigerCat):\n",
    "    def _is_alive(self):\n",
    "        return random.random() > 0.5\n",
    "    \n",
    "    def is_scary(self):\n",
    "        return self._is_alive()\n",
    "    \n",
    "class Person:\n",
    "    def __init__(self, animal):\n",
    "        self.animal = animal\n",
    "    def is_scared(self):\n",
    "        # алгоритм того, является ли животное страшным, решает конкретный класс кошки\n",
    "        return self.animal.is_scary()"
   ]
  },
  {
   "cell_type": "code",
   "execution_count": 86,
   "metadata": {},
   "outputs": [
    {
     "data": {
      "text/plain": [
       "('GRRRR', True)"
      ]
     },
     "execution_count": 86,
     "metadata": {},
     "output_type": "execute_result"
    }
   ],
   "source": [
    "cat1 = TigerCat()\n",
    "p1 = Person(cat1)\n",
    "cat1.voice(), p1.is_scared()"
   ]
  },
  {
   "cell_type": "code",
   "execution_count": 87,
   "metadata": {},
   "outputs": [
    {
     "data": {
      "text/plain": [
       "('GRRRR', True)"
      ]
     },
     "execution_count": 87,
     "metadata": {},
     "output_type": "execute_result"
    }
   ],
   "source": [
    "cat2 = SchredingerTigerCat()\n",
    "p2 = Person(cat2)\n",
    "cat2.voice(), p2.is_scared()"
   ]
  },
  {
   "cell_type": "code",
   "execution_count": 88,
   "metadata": {},
   "outputs": [
    {
     "data": {
      "text/plain": [
       "('GRRRR', True)"
      ]
     },
     "execution_count": 88,
     "metadata": {},
     "output_type": "execute_result"
    }
   ],
   "source": [
    "cat3 = SchredingerTigerCat()\n",
    "p3 = Person(cat3)\n",
    "cat3.voice(), p3.is_scared()"
   ]
  },
  {
   "cell_type": "markdown",
   "metadata": {},
   "source": [
    "### Destructor \\__del__"
   ]
  },
  {
   "cell_type": "markdown",
   "metadata": {},
   "source": [
    "Встроенная функция del принудительно вызывает деструктор объекта и высвобождает занятую им память"
   ]
  },
  {
   "cell_type": "code",
   "execution_count": 90,
   "metadata": {},
   "outputs": [
    {
     "data": {
      "text/plain": [
       "5"
      ]
     },
     "execution_count": 90,
     "metadata": {},
     "output_type": "execute_result"
    }
   ],
   "source": [
    "a = 5\n",
    "a"
   ]
  },
  {
   "cell_type": "code",
   "execution_count": 91,
   "metadata": {},
   "outputs": [
    {
     "ename": "NameError",
     "evalue": "name 'a' is not defined",
     "output_type": "error",
     "traceback": [
      "\u001b[0;31m---------------------------------------------------------------------------\u001b[0m",
      "\u001b[0;31mNameError\u001b[0m                                 Traceback (most recent call last)",
      "\u001b[0;32m<ipython-input-91-ef9d13752aff>\u001b[0m in \u001b[0;36m<module>\u001b[0;34m()\u001b[0m\n\u001b[1;32m      1\u001b[0m \u001b[0;32mdel\u001b[0m \u001b[0ma\u001b[0m\u001b[0;34m\u001b[0m\u001b[0m\n\u001b[0;32m----> 2\u001b[0;31m \u001b[0ma\u001b[0m\u001b[0;34m\u001b[0m\u001b[0m\n\u001b[0m",
      "\u001b[0;31mNameError\u001b[0m: name 'a' is not defined"
     ]
    }
   ],
   "source": [
    "del a\n",
    "a"
   ]
  }
 ],
 "metadata": {
  "kernelspec": {
   "display_name": "Python [default]",
   "language": "python",
   "name": "python3"
  },
  "language_info": {
   "codemirror_mode": {
    "name": "ipython",
    "version": 3
   },
   "file_extension": ".py",
   "mimetype": "text/x-python",
   "name": "python",
   "nbconvert_exporter": "python",
   "pygments_lexer": "ipython3",
   "version": "3.5.4"
  },
  "widgets": {
   "state": {},
   "version": "1.1.2"
  }
 },
 "nbformat": 4,
 "nbformat_minor": 2
}
