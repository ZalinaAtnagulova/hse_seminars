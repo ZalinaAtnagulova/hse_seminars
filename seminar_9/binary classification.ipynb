{
 "cells": [
  {
   "cell_type": "markdown",
   "metadata": {},
   "source": [
    "# Binary classfication"
   ]
  },
  {
   "cell_type": "markdown",
   "metadata": {},
   "source": [
    "Models: discriminative and generative\n",
    "\n",
    "Optimal bayes classifier\n",
    "\n",
    "Naive bayes classifier\n",
    "\n",
    "General classification objective\n",
    "\n",
    "Margins\n",
    "\n",
    "Logistic regression\n",
    "\n",
    "Classification perfomance metrics  \n",
    "    accuracy  \n",
    "    precision  \n",
    "    recall  \n",
    "    f1 measure  \n",
    "    AUC  \n",
    "    \n",
    "    \n",
    "<b>Reading</b>:\n",
    "1. http://www.machinelearning.ru/wiki/index.php?title=Байесовский_классификатор\n",
    "2. http://www.machinelearning.ru/wiki/index.php?title=Наивный_байесовский_классификатор\n",
    "3. http://www.machinelearning.ru/wiki/index.php?title=Логистическая_регрессия\n",
    "4. http://www.machinelearning.ru/wiki/index.php?title=Кривая_ошибок\n",
    "5. http://www.machinelearning.ru/wiki/index.php?title=Линейный_классификатор\n",
    "6. Bishop. Pattern Recognition and Machine Learning. 1.5.3, 4.1, 4.2, 4.3, \n",
    "7. https://en.wikipedia.org/wiki/Evaluation_of_binary_classifiers\n",
    "8. https://en.wikipedia.org/wiki/Receiver_operating_characteristic\n",
    "..."
   ]
  },
  {
   "cell_type": "code",
   "execution_count": null,
   "metadata": {
    "collapsed": true
   },
   "outputs": [],
   "source": []
  }
 ],
 "metadata": {
  "kernelspec": {
   "display_name": "Python 3",
   "language": "python",
   "name": "python3"
  },
  "language_info": {
   "codemirror_mode": {
    "name": "ipython",
    "version": 3
   },
   "file_extension": ".py",
   "mimetype": "text/x-python",
   "name": "python",
   "nbconvert_exporter": "python",
   "pygments_lexer": "ipython3",
   "version": "3.5.4"
  },
  "widgets": {
   "state": {},
   "version": "1.1.2"
  }
 },
 "nbformat": 4,
 "nbformat_minor": 2
}
