{
 "cells": [
  {
   "cell_type": "markdown",
   "metadata": {},
   "source": [
    "# Design Patterns"
   ]
  },
  {
   "cell_type": "markdown",
   "metadata": {},
   "source": [
    "## Metaclasses"
   ]
  },
  {
   "cell_type": "markdown",
   "metadata": {},
   "source": [
    "Class object is a instance of class \"type\". It is a default metaclass.\n",
    "Metaclass is responsible how class instantiates and operates.  "
   ]
  },
  {
   "cell_type": "code",
   "execution_count": 3,
   "metadata": {
    "collapsed": true
   },
   "outputs": [],
   "source": [
    "class MyType(type):\n",
    "    pass\n",
    "\n",
    "class MyClass(metaclass=MyType):\n",
    "    pass"
   ]
  },
  {
   "cell_type": "code",
   "execution_count": 4,
   "metadata": {},
   "outputs": [
    {
     "data": {
      "text/plain": [
       "__main__.MyClass"
      ]
     },
     "execution_count": 4,
     "metadata": {},
     "output_type": "execute_result"
    }
   ],
   "source": [
    "a = MyClass()\n",
    "type(a)"
   ]
  },
  {
   "cell_type": "code",
   "execution_count": 6,
   "metadata": {},
   "outputs": [
    {
     "data": {
      "text/plain": [
       "__main__.MyType"
      ]
     },
     "execution_count": 6,
     "metadata": {},
     "output_type": "execute_result"
    }
   ],
   "source": [
    "type(MyClass)"
   ]
  },
  {
   "cell_type": "code",
   "execution_count": 7,
   "metadata": {},
   "outputs": [
    {
     "data": {
      "text/plain": [
       "type"
      ]
     },
     "execution_count": 7,
     "metadata": {},
     "output_type": "execute_result"
    }
   ],
   "source": [
    "type(MyType)"
   ]
  },
  {
   "cell_type": "markdown",
   "metadata": {},
   "source": [
    "## Implementing Singleton using metaclasses"
   ]
  },
  {
   "cell_type": "code",
   "execution_count": 11,
   "metadata": {
    "collapsed": true
   },
   "outputs": [],
   "source": [
    "class Singleton(type):\n",
    "    instance = None\n",
    "    def __call__(cls, *args, **kw):\n",
    "        if not cls.instance:\n",
    "             cls.instance = super(Singleton, cls).__call__(*args, **kw)\n",
    "        return cls.instance\n",
    "    \n",
    "class UniqIbject(metaclass=Singleton):\n",
    "    pass"
   ]
  },
  {
   "cell_type": "code",
   "execution_count": 12,
   "metadata": {},
   "outputs": [
    {
     "data": {
      "text/plain": [
       "True"
      ]
     },
     "execution_count": 12,
     "metadata": {},
     "output_type": "execute_result"
    }
   ],
   "source": [
    "a = UniqIbject()\n",
    "b = UniqIbject()\n",
    "a is b"
   ]
  },
  {
   "cell_type": "markdown",
   "metadata": {},
   "source": [
    "Singleton class can have only one instance."
   ]
  },
  {
   "cell_type": "markdown",
   "metadata": {},
   "source": [
    "## Abstract Base Classes"
   ]
  },
  {
   "cell_type": "markdown",
   "metadata": {},
   "source": [
    "what is the best way to test that an object exposes a given interface? Abstract Base Classes provide a way to attach to a concrete class a virtual class with the only purpose of signaling a promised behaviour to anyone inspecting it with isinstance() or issubclass(). "
   ]
  },
  {
   "cell_type": "code",
   "execution_count": 14,
   "metadata": {
    "collapsed": true
   },
   "outputs": [],
   "source": [
    "from abc import ABCMeta\n",
    "\n",
    "class MyABC(metaclass=ABCMeta):\n",
    "    pass\n",
    "\n",
    "MyABC.register(list)"
   ]
  },
  {
   "cell_type": "code",
   "execution_count": 15,
   "metadata": {},
   "outputs": [
    {
     "data": {
      "text/plain": [
       "True"
      ]
     },
     "execution_count": 15,
     "metadata": {},
     "output_type": "execute_result"
    }
   ],
   "source": [
    "issubclass(list, MyABC)"
   ]
  },
  {
   "cell_type": "code",
   "execution_count": 17,
   "metadata": {},
   "outputs": [
    {
     "data": {
      "text/plain": [
       "True"
      ]
     },
     "execution_count": 17,
     "metadata": {},
     "output_type": "execute_result"
    }
   ],
   "source": [
    "isinstance([], MyABC)"
   ]
  },
  {
   "cell_type": "markdown",
   "metadata": {},
   "source": [
    "## Usefull decorators for OOP"
   ]
  },
  {
   "cell_type": "code",
   "execution_count": 61,
   "metadata": {
    "collapsed": true
   },
   "outputs": [],
   "source": [
    "import random\n",
    "import abc\n",
    "\n",
    "\n",
    "class Pet(metaclass=abc.ABCMeta):\n",
    "    \n",
    "    @abc.abstractproperty\n",
    "    def name(self):\n",
    "        pass\n",
    "\n",
    "class Cat(Pet):\n",
    "    char_voice = 'meow'\n",
    "    \n",
    "    def __init__(self, name):\n",
    "        self._name = name\n",
    "    \n",
    "    @property\n",
    "    def name(self):\n",
    "        print('getter is called')\n",
    "        return self._name\n",
    "    \n",
    "    @name.setter\n",
    "    def name(self, x):\n",
    "        print('setter is called')\n",
    "        self._name = x\n",
    "    \n",
    "    def is_alive(self):\n",
    "        return True\n",
    "    \n",
    "    @classmethod\n",
    "    def voice(cls):\n",
    "        return cls.char_voice\n",
    "    \n",
    "class SchredingerCat(Cat):\n",
    "    prob_threshold = 0.5\n",
    "    \n",
    "    def __init__(self, name):\n",
    "        super().__init__(name)\n",
    "        self.experiment_result = random.random() >= self.prob_threshold\n",
    "\n",
    "    @property\n",
    "    def name(self):\n",
    "        return 'schredinger ' + self._name\n",
    "    \n",
    "    def is_alive(self):\n",
    "        return self.experiment_result\n",
    "    \n",
    "    def voice(self):\n",
    "        return '%s says %s with prob %.1f' % (super().get_name(), self.char_voice, self.prob_threshold)"
   ]
  },
  {
   "cell_type": "code",
   "execution_count": 62,
   "metadata": {},
   "outputs": [
    {
     "name": "stdout",
     "output_type": "stream",
     "text": [
      "getter is called\n"
     ]
    },
    {
     "data": {
      "text/plain": [
       "'a'"
      ]
     },
     "execution_count": 62,
     "metadata": {},
     "output_type": "execute_result"
    }
   ],
   "source": [
    "c = Cat('a')\n",
    "c.name"
   ]
  },
  {
   "cell_type": "code",
   "execution_count": 63,
   "metadata": {},
   "outputs": [
    {
     "name": "stdout",
     "output_type": "stream",
     "text": [
      "setter is called\n"
     ]
    }
   ],
   "source": [
    "c.name = 'b'"
   ]
  },
  {
   "cell_type": "code",
   "execution_count": 64,
   "metadata": {},
   "outputs": [
    {
     "data": {
      "text/plain": [
       "'schredinger a'"
      ]
     },
     "execution_count": 64,
     "metadata": {},
     "output_type": "execute_result"
    }
   ],
   "source": [
    "c = SchredingerCat('a')\n",
    "c.name"
   ]
  },
  {
   "cell_type": "code",
   "execution_count": 65,
   "metadata": {},
   "outputs": [
    {
     "ename": "TypeError",
     "evalue": "Can't instantiate abstract class Pet with abstract methods name",
     "output_type": "error",
     "traceback": [
      "\u001b[0;31m---------------------------------------------------------------------------\u001b[0m",
      "\u001b[0;31mTypeError\u001b[0m                                 Traceback (most recent call last)",
      "\u001b[0;32m<ipython-input-65-b388970be2f8>\u001b[0m in \u001b[0;36m<module>\u001b[0;34m()\u001b[0m\n\u001b[0;32m----> 1\u001b[0;31m \u001b[0mc\u001b[0m \u001b[0;34m=\u001b[0m \u001b[0mPet\u001b[0m\u001b[0;34m(\u001b[0m\u001b[0;34m)\u001b[0m\u001b[0;34m\u001b[0m\u001b[0m\n\u001b[0m",
      "\u001b[0;31mTypeError\u001b[0m: Can't instantiate abstract class Pet with abstract methods name"
     ]
    }
   ],
   "source": [
    "c = Pet()"
   ]
  },
  {
   "cell_type": "markdown",
   "metadata": {},
   "source": [
    "@property decorator provides some sort of incapsulation.  \n",
    "@abc.abstract... decorator provide pure abstract methods. Class cannot be instantiated if it doesn't override all abstract methods."
   ]
  },
  {
   "cell_type": "markdown",
   "metadata": {},
   "source": [
    "## Abstract Fabric"
   ]
  },
  {
   "cell_type": "markdown",
   "metadata": {},
   "source": [
    "Provide an interface for creating families of related or dependent objects without specifying their concrete classes"
   ]
  },
  {
   "cell_type": "code",
   "execution_count": 71,
   "metadata": {
    "collapsed": true
   },
   "outputs": [],
   "source": [
    "from abc import ABCMeta, abstractmethod\n",
    "\n",
    "class Ball:\n",
    "    def __init__(self, size):\n",
    "        self._size = size\n",
    "        \n",
    "    @property\n",
    "    def size(self):\n",
    "        return self._size\n",
    "\n",
    "class Dog(metaclass=abc.ABCMeta):\n",
    "    @abstractmethod\n",
    "    def fetch(self, ball, dist):\n",
    "        pass\n",
    "    \n",
    "class Cat(metaclass=abc.ABCMeta):\n",
    "    @abstractmethod\n",
    "    def play(self, ball):\n",
    "        pass\n",
    "    \n",
    "class MastiffDog(Dog):\n",
    "    def fetch(self, ball, dist):\n",
    "        return dist < 1000\n",
    "        \n",
    "        \n",
    "class DachshundDog(Dog):\n",
    "    def fetch(self, ball, dist):\n",
    "        return ball.size < 10 and dist < 100 \n",
    "\n",
    "\n",
    "class PersianCat(Cat):\n",
    "    def play(self, ball):\n",
    "        return ball.size < 10\n",
    "    \n",
    "class TigerCat(Cat):\n",
    "    def play(self, ball):\n",
    "        return True    "
   ]
  },
  {
   "cell_type": "code",
   "execution_count": 79,
   "metadata": {
    "collapsed": true
   },
   "outputs": [],
   "source": [
    "class AbstractFactory(metaclass=abc.ABCMeta):\n",
    "    @abstractmethod\n",
    "    def get_pet(self):\n",
    "        pass\n",
    "    \n",
    "    \n",
    "class DogFactory(AbstractFactory):\n",
    "    def get_pet(self, atype):\n",
    "        if atype == None:\n",
    "            return None\n",
    "\n",
    "        if atype == \"small\":\n",
    "            return DachshundDog()\n",
    "        elif atype == \"big\":\n",
    "            return MastiffDog()\n",
    "\n",
    "        return None\n",
    "    \n",
    "\n",
    "class CatFactory(AbstractFactory):\n",
    "    def get_pet(self, atype):\n",
    "        if atype == None:\n",
    "            return None\n",
    "\n",
    "        if atype == \"small\":\n",
    "            return PersianCat()\n",
    "        elif atype == \"big\":\n",
    "            return TigerCat()\n",
    "\n",
    "        return None"
   ]
  },
  {
   "cell_type": "code",
   "execution_count": 80,
   "metadata": {},
   "outputs": [
    {
     "name": "stdout",
     "output_type": "stream",
     "text": [
      "True\n",
      "False\n",
      "True\n",
      "False\n"
     ]
    }
   ],
   "source": [
    "small_ball = Ball(1)\n",
    "big_ball = Ball(20)\n",
    "    \n",
    "\n",
    "factory = DogFactory()\n",
    "print(factory.get_pet('small').fetch(small_ball, 1))\n",
    "print(factory.get_pet('small').fetch(small_ball, 1000))\n",
    "print(factory.get_pet('big').fetch(big_ball, 1))\n",
    "print(factory.get_pet('big').fetch(big_ball, 1000))"
   ]
  },
  {
   "cell_type": "code",
   "execution_count": 82,
   "metadata": {},
   "outputs": [
    {
     "name": "stdout",
     "output_type": "stream",
     "text": [
      "True\n",
      "False\n",
      "True\n",
      "True\n"
     ]
    }
   ],
   "source": [
    "\n",
    "factory = CatFactory()\n",
    "print(factory.get_pet('small').play(small_ball))\n",
    "print(factory.get_pet('small').play(big_ball))\n",
    "print(factory.get_pet('big').play(small_ball))\n",
    "print(factory.get_pet('big').play(big_ball))"
   ]
  },
  {
   "cell_type": "markdown",
   "metadata": {},
   "source": [
    "## Decorator"
   ]
  },
  {
   "cell_type": "code",
   "execution_count": 88,
   "metadata": {},
   "outputs": [
    {
     "name": "stdout",
     "output_type": "stream",
     "text": [
      "!!! foo !!!\n",
      "foo\n",
      "sample docstr\n"
     ]
    }
   ],
   "source": [
    "from functools import wraps\n",
    "\n",
    "\n",
    "def exclamation(function):\n",
    "    \"\"\"Defines the decorator\"\"\"\n",
    " \n",
    "    #This makes the decorator transparent (name and docs)\n",
    "    @wraps(function)\n",
    " \n",
    "    #Define the inner function\n",
    "    def decorator():\n",
    "        #Grab the return value of the function being decorated\n",
    "        ret = function() \n",
    " \n",
    "        #Add new functionality\n",
    "        return \"!!! \" + ret + \" !!!\"\n",
    " \n",
    "    return decorator\n",
    "\n",
    "\n",
    "@exclamation\n",
    "def foo():\n",
    "    \"\"\"sample docstr\"\"\"\n",
    "    \n",
    "    return \"foo\""
   ]
  },
  {
   "cell_type": "code",
   "execution_count": 89,
   "metadata": {},
   "outputs": [
    {
     "name": "stdout",
     "output_type": "stream",
     "text": [
      "!!! foo !!!\n"
     ]
    }
   ],
   "source": [
    "print(foo())"
   ]
  },
  {
   "cell_type": "code",
   "execution_count": 90,
   "metadata": {},
   "outputs": [
    {
     "name": "stdout",
     "output_type": "stream",
     "text": [
      "foo\n"
     ]
    }
   ],
   "source": [
    "print(foo.__name__)"
   ]
  },
  {
   "cell_type": "code",
   "execution_count": 91,
   "metadata": {},
   "outputs": [
    {
     "name": "stdout",
     "output_type": "stream",
     "text": [
      "sample docstr\n"
     ]
    }
   ],
   "source": [
    "print(foo.__doc__)"
   ]
  },
  {
   "cell_type": "markdown",
   "metadata": {},
   "source": [
    "## Adapter"
   ]
  },
  {
   "cell_type": "markdown",
   "metadata": {},
   "source": [
    "Adapt different class interfaces into expected one."
   ]
  },
  {
   "cell_type": "code",
   "execution_count": 99,
   "metadata": {},
   "outputs": [
    {
     "data": {
      "text/plain": [
       "('madainn mhath', 'Good Morning')"
      ]
     },
     "execution_count": 99,
     "metadata": {},
     "output_type": "execute_result"
    }
   ],
   "source": [
    "class Scotland:\n",
    " \n",
    "\tdef speak_scottish(self):\n",
    "\t\treturn \"madainn mhath\"\n",
    "\n",
    "class England:\n",
    "\tdef speak_english(self):\n",
    "\t\treturn \"Good Morning\"\t\n",
    "    \n",
    "    \n",
    "class LanguageAdapter:\n",
    "    def __init__(self, model, **adapted_method):\n",
    "        self._model = model\n",
    "        self.__dict__.update(adapted_method)\n",
    " \n",
    "    def __getattr__(self, attr):\n",
    "        return getattr(self._model, attr)\n",
    " \n",
    "a = Scotland()\n",
    "b =England()\n",
    " \n",
    "ax = LanguageAdapter(a, greetings=a.speak_scottish)\n",
    "bx = LanguageAdapter(b, greetings=b.speak_english)\n",
    "\n",
    "ax.greetings(), bx.greetings()"
   ]
  },
  {
   "cell_type": "markdown",
   "metadata": {},
   "source": [
    "## Observer"
   ]
  },
  {
   "cell_type": "markdown",
   "metadata": {},
   "source": [
    "A software design pattern in which an object, called the subject, maintains a list of its dependents, called observers, and notifies them automatically of any state changes, usually by calling one of their methods. It is mainly used to implement distributed event handling systems."
   ]
  },
  {
   "cell_type": "code",
   "execution_count": 114,
   "metadata": {},
   "outputs": [
    {
     "name": "stdout",
     "output_type": "stream",
     "text": [
      "Parking: A has 20 slots available\n",
      "Parking: A has 20 slots available\n",
      "Parking: A has 2 slots available\n",
      "Parking: A has 2 slots available\n"
     ]
    }
   ],
   "source": [
    "class Observer(object): \n",
    " \n",
    "    def __init__(self):\n",
    "        self._observers = []\n",
    "\n",
    "    def attach(self, observer):\n",
    "        if observer not in self._observers:\n",
    "            self._observers.append(observer) \n",
    "\n",
    "    def detach(self, observer): \n",
    "        try:\n",
    "            self._observers.remove(observer)\n",
    "        except ValueError:\n",
    "            pass\n",
    "\n",
    "    def notify(self, modifier=None):\n",
    "        for observer in self._observers: \n",
    "            if modifier != observer:  \n",
    "                observer.update(self) \n",
    "                \n",
    " \n",
    "class Parking(Observer): \n",
    " \n",
    "    def __init__(self, name=\"\"):\n",
    "        super().__init__()\n",
    "        self._name = name \n",
    "        self._n_slots = 0 \n",
    "\n",
    "    @property\n",
    "    def n_slots(self):\n",
    "        return self._n_slots\n",
    "\n",
    "    @n_slots.setter\n",
    "    def n_slots(self, n):\n",
    "        self._n_slots = n\n",
    "        self.notify()\n",
    "        \n",
    " \n",
    "class ParkingDisplay:\n",
    "    def update(self, x):\n",
    "        print(\"Parking: {} has {} slots available\".format(x._name, x.n_slots))\n",
    " \n",
    "\n",
    "a = Parking(\"A\")\n",
    " \n",
    "#Let's create our observers\n",
    "v1 = ParkingDisplay()\n",
    "v2 = ParkingDisplay()\n",
    " \n",
    "#Let's attach our observers to the first core\n",
    "a.attach(v1)\n",
    "a.attach(v2)\n",
    " \n",
    "#Let's change the temperature of our first core\n",
    "a.n_slots = 20\n",
    "a.n_slots = 2"
   ]
  },
  {
   "cell_type": "markdown",
   "metadata": {},
   "source": [
    "## Strategy"
   ]
  },
  {
   "cell_type": "markdown",
   "metadata": {},
   "source": [
    "Define a family of algorithms, encapsulate each one, and make them interchangeable. Strategy lets the algorithm vary independently from clients that use it"
   ]
  },
  {
   "cell_type": "code",
   "execution_count": 118,
   "metadata": {},
   "outputs": [
    {
     "name": "stdout",
     "output_type": "stream",
     "text": [
      "ascending used\n"
     ]
    },
    {
     "data": {
      "text/plain": [
       "[-1, 1, 4, 5, 8]"
      ]
     },
     "execution_count": 118,
     "metadata": {},
     "output_type": "execute_result"
    }
   ],
   "source": [
    "import types\n",
    "\n",
    " \n",
    "class SortStrategy:\n",
    " \n",
    "    def __init__(self, func):\n",
    "        self.func = func\n",
    " \n",
    "    def execute(self, a): \n",
    "        print(self.func.__name__ + ' used')\n",
    "        return self.func(a)\n",
    " \n",
    "def ascending(a):\n",
    "    return sorted(a)\n",
    " \n",
    "# Replacement method 2    \n",
    "def descending(a):\n",
    "\treturn sorted(a, reverse=True)\n",
    " \n",
    "\n",
    "a = [1 , 5, 8 , 4, -1]\n",
    "s1 = SortStrategy(ascending)\n",
    "s1.execute(a)"
   ]
  },
  {
   "cell_type": "code",
   "execution_count": 119,
   "metadata": {},
   "outputs": [
    {
     "name": "stdout",
     "output_type": "stream",
     "text": [
      "descending used\n"
     ]
    },
    {
     "data": {
      "text/plain": [
       "[8, 5, 4, 1, -1]"
      ]
     },
     "execution_count": 119,
     "metadata": {},
     "output_type": "execute_result"
    }
   ],
   "source": [
    "s2 = SortStrategy(descending)\n",
    "s2.execute(a)"
   ]
  }
 ],
 "metadata": {
  "kernelspec": {
   "display_name": "Python [conda root]",
   "language": "python",
   "name": "conda-root-py"
  },
  "language_info": {
   "codemirror_mode": {
    "name": "ipython",
    "version": 3
   },
   "file_extension": ".py",
   "mimetype": "text/x-python",
   "name": "python",
   "nbconvert_exporter": "python",
   "pygments_lexer": "ipython3",
   "version": "3.5.4"
  }
 },
 "nbformat": 4,
 "nbformat_minor": 2
}
